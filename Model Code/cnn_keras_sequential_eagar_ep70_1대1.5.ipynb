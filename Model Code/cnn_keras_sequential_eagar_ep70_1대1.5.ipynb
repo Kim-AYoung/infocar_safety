{
 "cells": [
  {
   "cell_type": "markdown",
   "metadata": {},
   "source": [
    "### Import"
   ]
  },
  {
   "cell_type": "code",
   "execution_count": 1,
   "metadata": {},
   "outputs": [],
   "source": [
    "import tensorflow as tf\n",
    "# tf 2.0부터 keras는 tensorflow의 공식 API\n",
    "from tensorflow import keras\n",
    "from tensorflow.keras.utils import to_categorical\n",
    "from tensorflow.keras import layers, models, optimizers\n",
    "\n",
    "import numpy as np\n",
    "np.set_printoptions(threshold=np.inf, linewidth=np.inf)\n",
    "import matplotlib.pyplot as plt\n",
    "%matplotlib inline\n",
    "import pandas as pd\n",
    "pd.set_option('display.max_row', 40000)\n",
    "pd.set_option('display.max_column', 10000)\n",
    "\n",
    "import os\n",
    "from os.path import join\n",
    "import sqlite3\n",
    "import glob\n",
    "import csv"
   ]
  },
  {
   "cell_type": "code",
   "execution_count": 2,
   "metadata": {},
   "outputs": [
    {
     "name": "stdout",
     "output_type": "stream",
     "text": [
      "1 Physical GPUs, 1 Logical GPUs\n"
     ]
    }
   ],
   "source": [
    "gpus = tf.config.experimental.list_physical_devices('GPU')\n",
    "if gpus:\n",
    "    try:\n",
    "        # Currently, memory growth needs to be the same across GPUs\n",
    "        for gpu in gpus:\n",
    "            tf.config.experimental.set_memory_growth(gpu, True)\n",
    "            logical_gpus = tf.config.experimental.list_logical_devices('GPU')\n",
    "            print(len(gpus), \"Physical GPUs,\", len(logical_gpus), \"Logical GPUs\")\n",
    "    except RuntimeError as e:\n",
    "        # Memory growth must be set before GPUs have been initialized\n",
    "        print(e)"
   ]
  },
  {
   "cell_type": "markdown",
   "metadata": {},
   "source": [
    "### Data"
   ]
  },
  {
   "cell_type": "code",
   "execution_count": 3,
   "metadata": {
    "scrolled": true
   },
   "outputs": [
    {
     "name": "stdout",
     "output_type": "stream",
     "text": [
      "file_list: ['scc/2875311.db', 'scc/2872704.db', 'scc/2866021.db', 'scc/2876037.db', 'scc/2878804.db', 'scc/2871081.db', 'scc/2872996.db', 'scc/2866635.db', 'scc/2870370.db', 'scc/2864272.db', 'scc/2860462.db', 'scc/2872551.db', 'scc/2873898.db', 'scc/2882095.db', 'scc/2870347.db', 'scc/2879366.db', 'scc/2867198.db', 'scc/2861566.db', 'scc/2867677.db', 'scc/2870341.db', 'scc/2872611.db', 'scc/2866579.db', 'scc/2871080.db', 'scc/2867896.db', 'scc/2870343.db', 'scc/2874288.db', 'scc/2859490.db', 'scc/2867101.db', 'scc/2860307.db', 'scc/2879724.db', 'scc/2861561.db', 'scc/2873001.db', 'scc/2873000.db', 'scc/2869545.db', 'scc/2875118.db', 'scc/2878582.db', 'scc/2878874.db', 'scc/2863131.db', 'scc/2874509.db', 'scc/2861971.db', 'scc/2866225.db', 'scc/2859348.db', 'scc/2860118.db', 'scc/2870025.db', 'scc/2869319.db', 'scc/2868357.db', 'scc/2867179.db', 'scc/2877877.db', 'scc/2860773.db', 'scc/2881230.db', 'scc/2879814.db', 'scc/2878702.db', 'scc/2868169.db', 'scc/2873460.db', 'scc/2859723.db', 'scc/2868027.db', 'scc/2862165.db', 'scc/2878675.db', 'scc/2871453.db', 'scc/2880114.db', 'scc/2879144.db', 'scc/2870361.db', 'scc/2879180.db', 'scc/2877215.db', 'scc/2859817.db', 'scc/2872068.db', 'scc/2871838.db', 'scc/2872404.db', 'scc/2869296.db', 'scc/2866672.db', 'scc/2873895.db', 'scc/2879359.db', 'scc/2867570.db', 'scc/2867494.db', 'scc/2870048.db', 'scc/2876036.db', 'scc/2861103.db', 'scc/2865877.db', 'scc/2860239.db', 'scc/2870331.db', 'scc/2877861.db', 'scc/2869579.db', 'scc/2879498.db', 'scc/2870049.db', 'scc/2879293.db', 'scc/2868932.db', 'scc/2868894.db', 'scc/2862632.db', 'scc/2860554.db', 'scc/2878718.db', 'scc/2869580.db', 'scc/2866485.db', 'scc/2877929.db', 'scc/2870355.db', 'scc/2875335.db', 'scc/2878809.db', 'scc/2872654.db', 'scc/2859375.db', 'scc/2870379.db', 'scc/2869120.db', 'scc/2878893.db', 'scc/2870495.db', 'scc/2867130.db', 'scc/2878090.db', 'scc/2873587.db', 'scc/2877223.db', 'scc/2868862.db', 'scc/2872564.db', 'scc/2881540.db', 'scc/2870564.db', 'scc/2866798.db', 'scc/2868114.db', 'scc/2867415.db', 'scc/2860414.db', 'scc/2878601.db', 'scc/2864166.db', 'scc/2872968.db', 'scc/2868570.db', 'scc/2878808.db', 'scc/2863606.db', 'scc/2878895.db', 'scc/2870362.db', 'scc/2861370.db', 'scc/2867174.db', 'scc/2870349.db', 'scc/2863144.db', 'scc/2865861.db', 'scc/2861424.db', 'scc/2870008.db', 'scc/2861340.db', 'scc/2870382.db', 'scc/2863438.db', 'scc/2861348.db', 'scc/2871864.db', 'scc/2871066.db', 'scc/2870371.db', 'scc/2867315.db', 'scc/2872898.db', 'scc/2878557.db', 'scc/2870908.db', 'scc/2867918.db', 'scc/2878572.db', 'scc/2861309.db', 'scc/2872123.db', 'scc/2878899.db', 'scc/2877835.db', 'scc/2859964.db', 'scc/2859317.db', 'scc/2880979.db', 'scc/2869899.db', 'scc/2872242.db', 'scc/2867115.db', 'scc/2873875.db', 'scc/2860481.db', 'scc/2881047.db', 'scc/2859351.db', 'scc/2870354.db', 'scc/2874629.db', 'scc/2874104.db', 'scc/2872421.db', 'scc/2873502.db', 'scc/2870353.db', 'scc/2869791.db', 'scc/2878896.db', 'scc/2872316.db', 'scc/2877763.db', 'scc/2859344.db', 'scc/2870380.db', 'scc/2878519.db', 'scc/2877843.db', 'scc/2859986.db', 'scc/2870352.db', 'scc/2877820.db', 'scc/2870286.db', 'scc/2871183.db', 'scc/2874694.db', 'scc/2880062.db', 'scc/2866123.db', 'scc/2867973.db', 'scc/2870778.db', 'scc/2878704.db', 'scc/2869583.db', 'scc/2863985.db', 'scc/2867083.db', 'scc/2881164.db', 'scc/2869823.db', 'scc/2863054.db', 'scc/2867777.db', 'scc/2874289.db', 'scc/2862290.db', 'scc/2870357.db', 'scc/2860188.db', 'scc/2868089.db', 'scc/2882220.db', 'scc/2870667.db', 'scc/2868696.db', 'scc/2873957.db', 'scc/2875710.db', 'scc/2874593.db', 'scc/2862931.db', 'scc/2860203.db', 'scc/2870368.db', 'scc/2879284.db', 'scc/2881270.db', 'scc/2868577.db', 'scc/2871160.db', 'scc/2868297.db', 'scc/2878715.db', 'scc/2873357.db', 'scc/2869655.db', 'scc/2878078.db', 'scc/2860884.db', 'scc/2861201.db', 'scc/2875108.db', 'scc/2870345.db', 'scc/2874103.db', 'scc/2860451.db', 'scc/2879404.db', 'scc/2870375.db', 'scc/2879248.db', 'scc/2870372.db', 'scc/2870378.db', 'scc/2860943.db', 'scc/2879129.db', 'scc/2878412.db', 'scc/2867003.db', 'scc/2868294.db', 'scc/2863888.db', 'scc/2871521.db', 'scc/2870332.db', 'scc/2859349.db', 'scc/2860172.db', 'scc/2870377.db', 'scc/2872517.db', 'scc/2872429.db', 'scc/2872285.db', 'scc/2870350.db', 'scc/2870358.db', 'scc/2875446.db', 'scc/2869582.db', 'scc/2861004.db', 'scc/2869581.db', 'scc/2863607.db', 'scc/2867055.db', 'scc/2878305.db', 'scc/2862493.db', 'scc/2860520.db', 'scc/2865954.db', 'scc/2862502.db', 'scc/2861239.db', 'scc/2870983.db', 'scc/2870256.db', 'scc/2860912.db', 'scc/2868917.db', 'scc/2879262.db', 'scc/2869098.db', 'scc/2878089.db', 'scc/2876187.db', 'scc/2870346.db', 'scc/2866307.db', 'scc/2871603.db', 'scc/2871654.db', 'scc/2861027.db', 'scc/2861991.db', 'scc/2877584.db', 'scc/2873713.db', 'scc/2877339.db', 'scc/2873997.db', 'scc/2878205.db', 'scc/2870365.db', 'scc/2880050.db', 'scc/2864604.db', 'scc/2860769.db', 'scc/2870334.db', 'scc/2868992.db', 'scc/2873667.db', 'scc/2868356.db', 'scc/2874841.db', 'scc/2880972.db', 'scc/2868769.db', 'scc/2871665.db', 'scc/2869439.db', 'scc/2866280.db', 'scc/2861720.db', 'scc/2873194.db', 'scc/2870163.db', 'scc/2878826.db', 'scc/2859393.db', 'scc/2866595.db', 'scc/2872029.db', 'scc/2877494.db', 'scc/2879566.db', 'scc/2874004.db', 'scc/2877717.db', 'scc/2870344.db', 'scc/2881237.db', 'scc/2861127.db', 'scc/2873576.db', 'scc/2861282.db', 'scc/2868584.db', 'scc/2879773.db', 'scc/2870359.db', 'scc/2881229.db', 'scc/2878716.db', 'scc/2868641.db', 'scc/2873958.db', 'scc/2877385.db', 'scc/2866610.db', 'scc/2881138.db', 'scc/2866362.db', 'scc/2881456.db', 'scc/2877108.db', 'scc/2859492.db', 'scc/2878388.db', 'scc/2870337.db', 'scc/2878717.db', 'scc/2860149.db', 'scc/2871951.db', 'scc/2866337.db', 'scc/2881226.db', 'scc/2867053.db', 'scc/2881064.db', 'scc/2861323.db', 'scc/2872186.db', 'scc/2877875.db', 'scc/2870376.db', 'scc/2867762.db', 'scc/2873604.db', 'scc/2875488.db', 'scc/2867154.db', 'scc/2875073.db', 'scc/2860173.db', 'scc/2870859.db', 'scc/2872284.db', 'scc/2869801.db', 'scc/2878473.db', 'scc/2875470.db', 'scc/2872045.db', 'scc/2879299.db', 'scc/2870339.db', 'scc/2877135.db', 'scc/2859433.db', 'scc/2870333.db', 'scc/2879298.db', 'scc/2881231.db', 'scc/2878940.db', 'scc/2881436.db', 'scc/2866714.db', 'scc/2879518.db', 'scc/2871842.db', 'scc/2859505.db', 'scc/2874695.db', 'scc/2867197.db', 'scc/2860402.db', 'scc/2879405.db', 'scc/2878999.db', 'scc/2868128.db', 'scc/2867020.db', 'scc/2873897.db', 'scc/2874773.db', 'scc/2877876.db', 'scc/2863605.db', 'scc/2862723.db', 'scc/2868100.db', 'scc/2859443.db', 'scc/2870366.db', 'scc/2860531.db', 'scc/2877961.db', 'scc/2873268.db', 'scc/2870626.db', 'scc/2863143.db', 'scc/2860171.db', 'scc/2881228.db', 'scc/2861098.db', 'scc/2872906.db', 'scc/2866533.db', 'scc/2874010.db', 'scc/2870374.db', 'scc/2866388.db', 'scc/2866331.db', 'scc/2870338.db', 'scc/2866808.db', 'scc/2872962.db', 'scc/2865583.db', 'scc/2860139.db', 'scc/2872305.db', 'scc/2860083.db', 'scc/2859724.db', 'scc/2879783.db', 'scc/2861459.db', 'scc/2867129.db', 'scc/2859818.db', 'scc/2870373.db', 'scc/2866330.db', 'scc/2865182.db', 'scc/2870356.db', 'scc/2870364.db', 'scc/2859498.db', 'scc/2880217.db', 'scc/2859990.db', 'scc/2873648.db', 'scc/2878574.db', 'scc/2878703.db', 'scc/2867215.db', 'scc/2866339.db', 'scc/2881355.db', 'scc/2866338.db', 'scc/2877540.db', 'scc/2862433.db', 'scc/2859350.db', 'scc/2866866.db', 'scc/2870348.db', 'scc/2870813.db', 'scc/2878894.db', 'scc/2873270.db', 'scc/2870342.db', 'scc/2877650.db', 'scc/2873996.db', 'scc/2864167.db', 'scc/2860759.db', 'scc/2878393.db', 'scc/2862623.db', 'scc/2871794.db', 'scc/2878943.db', 'scc/2870335.db', 'scc/2860378.db', 'scc/2870087.db', 'scc/2860944.db', 'scc/2880222.db', 'scc/2868998.db', 'scc/2875630.db', 'scc/2868105.db', 'scc/2878260.db', 'scc/2873269.db', 'scc/2878952.db', 'scc/2872149.db', 'scc/2859368.db', 'scc/2870634.db', 'scc/2860235.db', 'scc/2859615.db', 'scc/2866876.db', 'scc/2871586.db', 'scc/2870367.db', 'scc/2871345.db', 'scc/2870351.db', 'scc/2867261.db', 'scc/2870381.db', 'scc/2879633.db', 'scc/2860231.db', 'scc/2873436.db', 'scc/2869397.db', 'scc/2873608.db', 'scc/2879782.db', 'scc/2871552.db', 'scc/2866136.db', 'scc/2878467.db', 'scc/2882134.db', 'scc/2859511.db', 'scc/2860786.db', 'scc/2868853.db', 'scc/2870340.db', 'scc/2861600.db', 'scc/2866480.db', 'scc/2861195.db', 'scc/2877495.db', 'scc/2882039.db', 'scc/2873871.db', 'scc/2881227.db', 'scc/2867232.db', 'scc/2867844.db', 'scc/2872280.db', 'scc/2862359.db', 'scc/2862896.db', 'scc/2878023.db', 'scc/2871541.db', 'scc/2882124.db', 'scc/2868358.db', 'scc/2866484.db', 'scc/2859493.db', 'scc/2860939.db', 'scc/2863121.db', 'scc/2870369.db', 'scc/2875457.db', 'scc/2862311.db', 'scc/2878941.db', 'scc/2867513.db', 'scc/2879970.db', 'scc/2870360.db', 'scc/2878452.db', 'scc/2862715.db', 'scc/2878827.db', 'scc/2878946.db', 'scc/2871632.db', 'scc/2867512.db', 'scc/2874897.db', 'scc/2875203.db', 'scc/2877511.db', 'scc/2866655.db', 'scc/2871812.db', 'scc/2870363.db']\n"
     ]
    },
    {
     "name": "stdout",
     "output_type": "stream",
     "text": [
      "(801025, 3, 10)\n",
      "(801024, 1)\n"
     ]
    }
   ],
   "source": [
    "path = \"scc/*\" #-------------------------자신의 db파일이 있는 폴더로 수정---------------------------\n",
    "file_list =  glob.glob(path)\n",
    "file_list_db = [file for file in file_list if file.endswith(\".db\")]\n",
    "print (\"file_list: {}\".format(file_list_db))\n",
    "len(file_list_db)\n",
    "# EventCode03이 일어났을 당시의 초당 주행기록 가져오기\n",
    "\n",
    "time_slice = 3\n",
    "\n",
    "temp1 = np.zeros((1,time_slice,10)) # srcrec_df2 초기화\n",
    "\n",
    "srcrec_df2 =temp1 # 연결한 db들의 x data 저장소\n",
    "srcrec_df4 = pd.DataFrame() # 연결한 db들의 y data 저장소\n",
    "\n",
    "for i in range (0,len(file_list_db)):\n",
    "    # event 파일 가져오기\n",
    "    f = open('src/event.csv') #-------------------------자신의 event파일이 있는 폴더로 수정---------------------------\n",
    "    csvReader = csv.reader(f)\n",
    "    # db연결\n",
    "    conn = sqlite3.connect(file_list_db[i])\n",
    "    c = conn. cursor()\n",
    "    # event 테이블 유무 확인 후, 있으면 제거\n",
    "    c.execute('Drop Table If Exists event')\n",
    "    # event 테이블 생성\n",
    "    c.execute(\"create table event(CAR_RECDRV_KEY integer, EVENT_CODE text, EVENT_STDT text, EVENT_ENDT text)\")\n",
    "    # csv 파일 읽어 온 데이터 insert\n",
    "    for row in csvReader:\n",
    "        if row[7] == \"EVENT_CODE\":\n",
    "            continue\n",
    "        sql1 = \"insert into event (CAR_RECDRV_KEY,EVENT_CODE, EVENT_STDT, EVENT_ENDT) values (?,?,?,?)\"\n",
    "        key= int(row[1])\n",
    "        #key 추출\n",
    "        if key != int(file_list_db[i][4:11]): #src에 자신의 db파일이 있어야함, 아니면 인덱스 수정할 것\n",
    "            continue\n",
    "        code = (row[7])\n",
    "        #event 추출\n",
    "        if code[-11:] != \"EventCode03\":\n",
    "            continue\n",
    "        stdt = (row[8])\n",
    "        endt = (row[9])\n",
    "        c.execute(sql1,(key,code,stdt,endt))\n",
    "    #트랜잭션 저장\n",
    "    conn.commit()\n",
    "    #event03 뽐기 query 실행\n",
    "    sql2 = 'SELECT SRCREC.srcValue, SRCREC.realTime, SRCREC.srcSpeed, SRCREC.srcAPS,\\\n",
    "    SRCREC.srcGyroValue, SRCREC.srcRPM, SRCREC.srcTPS, SRCREC.srcMAF, SRCREC.srcEngineLoad, ifnull(EVENT_CODE, \"0\") FROM SRCREC LEFT OUTER JOIN\\\n",
    "    (SELECT EVENT_CODE, EVENT_STDT s, EVENT_ENDT e FROM event\\\n",
    "    ) ON SRCREC.realTime BETWEEN strftime(\"%Y%m%d%H%M%S\",s)\\\n",
    "     AND strftime(\"%Y%m%d%H%M%S\",e)'\n",
    "    query =  c.execute(sql2)\n",
    "    cols = [column[0] for column in query.description]\n",
    "    srcrec_df = pd.DataFrame.from_records(data=query.fetchall(), columns=cols)\n",
    "    \n",
    "    # 슬라이딩 윈도우 적용\n",
    "    srcrec_df = srcrec_df.iloc[100:]\n",
    "    srcred_list =  srcrec_df.values\n",
    "    seq_len = time_slice\n",
    "    data_matrix=[]\n",
    "    for i in range(0, len(srcred_list)-seq_len+1): # data를 겹친다. 0 1 2 3 4 5 -> 1 2 3 4 5 6\n",
    "        tmp_data = srcrec_df[i:i+seq_len]\n",
    "        data_matrix.append(tmp_data)\n",
    "    data_matrix_np = np.array(data_matrix)\n",
    "   \n",
    "    if len(data_matrix_np)==0:\n",
    "        continue\n",
    "    # 각 db의 슬라이딩 적용한 x data들 합치기\n",
    "    srcrec_df2 = np.concatenate([srcrec_df2,data_matrix_np])\n",
    "    \n",
    "    # y data 뽑아오기\n",
    "    sql3 = 'SELECT ifnull(EVENT_CODE, \"0\") FROM SRCREC LEFT OUTER JOIN\\\n",
    "    (SELECT EVENT_CODE, EVENT_STDT s, EVENT_ENDT e FROM event\\\n",
    "    ) ON SRCREC.realTime BETWEEN strftime(\"%Y%m%d%H%M%S\",s)\\\n",
    "     AND strftime(\"%Y%m%d%H%M%S\",e)'\n",
    "    query =  c.execute(sql3)\n",
    "    cols = [column[0] for column in query.description]\n",
    "    srcrec_df3 = pd.DataFrame.from_records(data=query.fetchall(), columns=cols)\n",
    "    \n",
    "    # 슬라이딩 적용으로 인해 필요없는 y data 제거\n",
    "    srcrec_df3 = srcrec_df3.iloc[100 + time_slice - 1:] \n",
    "    \n",
    "    # 각 db의 슬라이딩 적용한 y data들 합치기\n",
    "    srcrec_df4 = pd.concat([srcrec_df4, srcrec_df3], ignore_index=True)\n",
    "    \n",
    "    #db 연결 종료\n",
    "    c.close()\n",
    "    conn.close()\n",
    "    #파일 연결 종료\n",
    "    f.close()\n",
    "# srcrec_df2 : x data\n",
    "# srcrec_df4 : y data\n",
    "print(srcrec_df2.shape)\n",
    "print(srcrec_df4.shape)"
   ]
  },
  {
   "cell_type": "markdown",
   "metadata": {},
   "source": [
    "1. srcrec_df2를 초기화할 때 넣어준 0을 지움\n",
    "2. 여러 컬럼 중 x data에 사용할 컬럼들을 걸러냄"
   ]
  },
  {
   "cell_type": "code",
   "execution_count": 4,
   "metadata": {},
   "outputs": [
    {
     "data": {
      "text/plain": [
       "801024"
      ]
     },
     "execution_count": 4,
     "metadata": {},
     "output_type": "execute_result"
    }
   ],
   "source": [
    "x_data = srcrec_df2[1:,:,2:8]\n",
    "len(x_data)"
   ]
  },
  {
   "cell_type": "code",
   "execution_count": 5,
   "metadata": {},
   "outputs": [],
   "source": [
    "y_data = srcrec_df4.values[: ,0]\n",
    "\n",
    "y_data = pd.get_dummies(y_data).values\n",
    "\n",
    "y_data = y_data[:,0]\n",
    "\n",
    "where_0 = np.where(y_data == 0)\n",
    "where_1 = np.where(y_data == 1)\n",
    "\n",
    "y_data[where_0] = 1\n",
    "y_data[where_1] = 0\n",
    "#수정사항 categorical로 바꾸기\n",
    "# y_data = to_categorical(y_data)"
   ]
  },
  {
   "cell_type": "markdown",
   "metadata": {},
   "source": [
    "### Change from sequence x data to image "
   ]
  },
  {
   "cell_type": "code",
   "execution_count": 6,
   "metadata": {},
   "outputs": [],
   "source": [
    "# imaging time series as unthresholded recurrence plot\n",
    "def r_plot(data,delay=0):\n",
    "    #input datatype data : ndarray, 1xn, n-number of samples in each series\n",
    "    #input datatype delay : int, delay embedding for RP formation, default value is 1\n",
    "    #output datatype rp : ndarray, nxn, unthresholded recurrence plot for series\n",
    "    transformed = np.zeros([2,len(data)-delay])\n",
    "    transformed[0,:] = data[0:len(data)-delay]\n",
    "    transformed[1,:] = data[delay:len(data)]\n",
    "    rp = np.zeros([len(data)-delay,len(data)-delay])\n",
    "    for i in range(len(rp)):\n",
    "        temp = np.tile(transformed[:,i],(len(rp),1)).T-transformed\n",
    "        temp2 = np.square(temp)\n",
    "        rp[i,:] = np.sum(temp2,axis=0)\n",
    "    return np.array(rp).tolist()"
   ]
  },
  {
   "cell_type": "code",
   "execution_count": 7,
   "metadata": {},
   "outputs": [
    {
     "name": "stdout",
     "output_type": "stream",
     "text": [
      "3\n",
      "3\n",
      "6\n"
     ]
    }
   ],
   "source": [
    "import matplotlib.pyplot as plt\n",
    "\n",
    "#RP embedding\n",
    "total = []\n",
    "for row in range(0, len(x_data)):\n",
    "    RP=[]\n",
    "    for col in range(0, len(x_data[row][0])):       \n",
    "        toy_data=x_data[row,:,col]\n",
    "        RP.append(r_plot(toy_data))\n",
    "    total.append(RP)\n",
    "    \n",
    "total2 = []\n",
    "for rp in total:\n",
    "    RP2 = []\n",
    "    myrp2 ={}\n",
    "    for i in range(0, time_slice):\n",
    "        myrp2[i] = np.zeros((time_slice,6))\n",
    "    for rp_count in range(0, len(myrp2)):\n",
    "        myrp = myrp2[rp_count]\n",
    "        rp_mini_count=0;\n",
    "        for rp_mini in rp:\n",
    "            for index in range(0, len(rp_mini[0])):\n",
    "                myrp[index][rp_mini_count] = rp_mini[rp_count][index]\n",
    "            rp_mini_count = rp_mini_count+1\n",
    "            \n",
    "    for key, value in myrp2.items():\n",
    "        RP2.append(value)\n",
    "        \n",
    "    total2.append(RP2)        \n",
    "\n",
    "print(len(total2[0]))\n",
    "print(len(total2[0][0]))\n",
    "print(len(total2[0][0][0]))\n",
    "x_data = total2"
   ]
  },
  {
   "cell_type": "markdown",
   "metadata": {},
   "source": [
    "### make the 0 and 1 ratio the same"
   ]
  },
  {
   "cell_type": "code",
   "execution_count": 8,
   "metadata": {},
   "outputs": [
    {
     "name": "stdout",
     "output_type": "stream",
     "text": [
      "801024\n",
      "4706\n"
     ]
    }
   ],
   "source": [
    "import math\n",
    "\n",
    "yindex=0\n",
    "y1index=0\n",
    "x1_data = []\n",
    "y1_data = []\n",
    "\n",
    "print(len(y_data))\n",
    "for ydata in y_data:\n",
    "    if ydata == 1:\n",
    "        x1_data.append(x_data[yindex])\n",
    "        y1_data.append(y_data[yindex])\n",
    "        y1index= y1index+1\n",
    "    yindex = yindex+1\n",
    "print(y1index)\n",
    "\n",
    "yindex=0\n",
    "y1getindex=0 #가져오는 데이터 카운트 \n",
    "for ydata in y_data:\n",
    "    if ydata == 0:\n",
    "        if y1getindex == math.floor(y1index*1.5):# event: normal = 1 : 1.5\n",
    "            break\n",
    "        x1_data.append(x_data[yindex])\n",
    "        y1_data.append(y_data[yindex])\n",
    "        y1getindex= y1getindex+1\n",
    "    yindex = yindex+1\n"
   ]
  },
  {
   "cell_type": "code",
   "execution_count": 9,
   "metadata": {},
   "outputs": [
    {
     "name": "stdout",
     "output_type": "stream",
     "text": [
      "[[[[0.00000000e+00 0.00000000e+00 0.00000000e+00 0.00000000e+00 0.00000000e+00 0.00000000e+00]\n",
      "   [2.00000000e+00 0.00000000e+00 4.68795260e+03 1.76720000e+06 0.00000000e+00 0.00000000e+00]\n",
      "   [2.88000000e+02 0.00000000e+00 3.21173208e+03 5.71220000e+06 4.42906696e+01 0.00000000e+00]]\n",
      "\n",
      "  [[2.00000000e+00 0.00000000e+00 4.68795260e+03 1.76720000e+06 0.00000000e+00 0.00000000e+00]\n",
      "   [0.00000000e+00 0.00000000e+00 0.00000000e+00 0.00000000e+00 0.00000000e+00 0.00000000e+00]\n",
      "   [2.42000000e+02 0.00000000e+00 1.39156926e+02 1.12500000e+06 4.42906696e+01 0.00000000e+00]]\n",
      "\n",
      "  [[2.88000000e+02 0.00000000e+00 3.21173208e+03 5.71220000e+06 4.42906696e+01 0.00000000e+00]\n",
      "   [2.42000000e+02 0.00000000e+00 1.39156926e+02 1.12500000e+06 4.42906696e+01 0.00000000e+00]\n",
      "   [0.00000000e+00 0.00000000e+00 0.00000000e+00 0.00000000e+00 0.00000000e+00 0.00000000e+00]]]\n",
      "\n",
      "\n",
      " [[[0.00000000e+00 0.00000000e+00 0.00000000e+00 0.00000000e+00 0.00000000e+00 0.00000000e+00]\n",
      "   [2.42000000e+02 0.00000000e+00 1.39156926e+02 1.12500000e+06 4.42906696e+01 0.00000000e+00]\n",
      "   [8.82000000e+02 0.00000000e+00 6.14987031e+02 1.12500000e+06 4.42906696e+01 0.00000000e+00]]\n",
      "\n",
      "  [[2.42000000e+02 0.00000000e+00 1.39156926e+02 1.12500000e+06 4.42906696e+01 0.00000000e+00]\n",
      "   [0.00000000e+00 0.00000000e+00 0.00000000e+00 0.00000000e+00 0.00000000e+00 0.00000000e+00]\n",
      "   [2.00000000e+02 0.00000000e+00 1.69063775e+02 0.00000000e+00 0.00000000e+00 0.00000000e+00]]\n",
      "\n",
      "  [[8.82000000e+02 0.00000000e+00 6.14987031e+02 1.12500000e+06 4.42906696e+01 0.00000000e+00]\n",
      "   [2.00000000e+02 0.00000000e+00 1.69063775e+02 0.00000000e+00 0.00000000e+00 0.00000000e+00]\n",
      "   [0.00000000e+00 0.00000000e+00 0.00000000e+00 0.00000000e+00 0.00000000e+00 0.00000000e+00]]]\n",
      "\n",
      "\n",
      " [[[0.00000000e+00 0.00000000e+00 0.00000000e+00 0.00000000e+00 0.00000000e+00 0.00000000e+00]\n",
      "   [8.00000000e+00 9.64551980e+02 6.32819025e+00 0.00000000e+00 3.72164295e+01 0.00000000e+00]\n",
      "   [2.00000000e+00 9.64551980e+02 5.23455578e+00 3.92000000e+02 3.72164295e+01 0.00000000e+00]]\n",
      "\n",
      "  [[8.00000000e+00 9.64551980e+02 6.32819025e+00 0.00000000e+00 3.72164295e+01 0.00000000e+00]\n",
      "   [0.00000000e+00 0.00000000e+00 0.00000000e+00 0.00000000e+00 0.00000000e+00 0.00000000e+00]\n",
      "   [1.80000000e+01 0.00000000e+00 5.18355792e-02 3.92000000e+02 0.00000000e+00 0.00000000e+00]]\n",
      "\n",
      "  [[2.00000000e+00 9.64551980e+02 5.23455578e+00 3.92000000e+02 3.72164295e+01 0.00000000e+00]\n",
      "   [1.80000000e+01 0.00000000e+00 5.18355792e-02 3.92000000e+02 0.00000000e+00 0.00000000e+00]\n",
      "   [0.00000000e+00 0.00000000e+00 0.00000000e+00 0.00000000e+00 0.00000000e+00 0.00000000e+00]]]\n",
      "\n",
      "\n",
      " [[[0.00000000e+00 0.00000000e+00 0.00000000e+00 0.00000000e+00 0.00000000e+00 0.00000000e+00]\n",
      "   [1.80000000e+01 0.00000000e+00 5.18355792e-02 3.92000000e+02 0.00000000e+00 0.00000000e+00]\n",
      "   [2.88000000e+02 0.00000000e+00 1.16386885e-01 3.92000000e+02 2.58669787e+02 0.00000000e+00]]\n",
      "\n",
      "  [[1.80000000e+01 0.00000000e+00 5.18355792e-02 3.92000000e+02 0.00000000e+00 0.00000000e+00]\n",
      "   [0.00000000e+00 0.00000000e+00 0.00000000e+00 0.00000000e+00 0.00000000e+00 0.00000000e+00]\n",
      "   [1.62000000e+02 0.00000000e+00 1.28779232e-02 0.00000000e+00 2.58669787e+02 0.00000000e+00]]\n",
      "\n",
      "  [[2.88000000e+02 0.00000000e+00 1.16386885e-01 3.92000000e+02 2.58669787e+02 0.00000000e+00]\n",
      "   [1.62000000e+02 0.00000000e+00 1.28779232e-02 0.00000000e+00 2.58669787e+02 0.00000000e+00]\n",
      "   [0.00000000e+00 0.00000000e+00 0.00000000e+00 0.00000000e+00 0.00000000e+00 0.00000000e+00]]]\n",
      "\n",
      "\n",
      " [[[0.00000000e+00 0.00000000e+00 0.00000000e+00 0.00000000e+00 0.00000000e+00 0.00000000e+00]\n",
      "   [1.28000000e+02 0.00000000e+00 1.23650727e-04 1.13288000e+05 0.00000000e+00 0.00000000e+00]\n",
      "   [4.50000000e+02 0.00000000e+00 2.37724793e-01 4.91724800e+06 1.96847379e+01 0.00000000e+00]]\n",
      "\n",
      "  [[1.28000000e+02 0.00000000e+00 1.23650727e-04 1.13288000e+05 0.00000000e+00 0.00000000e+00]\n",
      "   [0.00000000e+00 0.00000000e+00 0.00000000e+00 0.00000000e+00 0.00000000e+00 0.00000000e+00]\n",
      "   [9.80000000e+01 0.00000000e+00 2.48691846e-01 3.53780000e+06 1.96847379e+01 0.00000000e+00]]\n",
      "\n",
      "  [[4.50000000e+02 0.00000000e+00 2.37724793e-01 4.91724800e+06 1.96847379e+01 0.00000000e+00]\n",
      "   [9.80000000e+01 0.00000000e+00 2.48691846e-01 3.53780000e+06 1.96847379e+01 0.00000000e+00]\n",
      "   [0.00000000e+00 0.00000000e+00 0.00000000e+00 0.00000000e+00 0.00000000e+00 0.00000000e+00]]]\n",
      "\n",
      "\n",
      " [[[0.00000000e+00 0.00000000e+00 0.00000000e+00 0.00000000e+00 0.00000000e+00 0.00000000e+00]\n",
      "   [9.80000000e+01 0.00000000e+00 2.48691846e-01 3.53780000e+06 1.96847379e+01 0.00000000e+00]\n",
      "   [6.48000000e+02 0.00000000e+00 2.56872930e-02 3.53780000e+06 3.72164640e+01 0.00000000e+00]]\n",
      "\n",
      "  [[9.80000000e+01 0.00000000e+00 2.48691846e-01 3.53780000e+06 1.96847379e+01 0.00000000e+00]\n",
      "   [0.00000000e+00 0.00000000e+00 0.00000000e+00 0.00000000e+00 0.00000000e+00 0.00000000e+00]\n",
      "   [2.42000000e+02 0.00000000e+00 1.14526453e-01 0.00000000e+00 2.76816803e+00 0.00000000e+00]]\n",
      "\n",
      "  [[6.48000000e+02 0.00000000e+00 2.56872930e-02 3.53780000e+06 3.72164640e+01 0.00000000e+00]\n",
      "   [2.42000000e+02 0.00000000e+00 1.14526453e-01 0.00000000e+00 2.76816803e+00 0.00000000e+00]\n",
      "   [0.00000000e+00 0.00000000e+00 0.00000000e+00 0.00000000e+00 0.00000000e+00 0.00000000e+00]]]\n",
      "\n",
      "\n",
      " [[[0.00000000e+00 0.00000000e+00 0.00000000e+00 0.00000000e+00 0.00000000e+00 0.00000000e+00]\n",
      "   [1.28000000e+02 0.00000000e+00 3.35113972e-01 0.00000000e+00 2.76816803e+00 0.00000000e+00]\n",
      "   [4.50000000e+02 0.00000000e+00 7.86706857e-01 3.62952000e+05 1.10726627e+01 0.00000000e+00]]\n",
      "\n",
      "  [[1.28000000e+02 0.00000000e+00 3.35113972e-01 0.00000000e+00 2.76816803e+00 0.00000000e+00]\n",
      "   [0.00000000e+00 0.00000000e+00 0.00000000e+00 0.00000000e+00 0.00000000e+00 0.00000000e+00]\n",
      "   [9.80000000e+01 0.00000000e+00 9.49100058e-02 3.62952000e+05 2.49134981e+01 0.00000000e+00]]\n",
      "\n",
      "  [[4.50000000e+02 0.00000000e+00 7.86706857e-01 3.62952000e+05 1.10726627e+01 0.00000000e+00]\n",
      "   [9.80000000e+01 0.00000000e+00 9.49100058e-02 3.62952000e+05 2.49134981e+01 0.00000000e+00]\n",
      "   [0.00000000e+00 0.00000000e+00 0.00000000e+00 0.00000000e+00 0.00000000e+00 0.00000000e+00]]]\n",
      "\n",
      "\n",
      " [[[0.00000000e+00 0.00000000e+00 0.00000000e+00 0.00000000e+00 0.00000000e+00 0.00000000e+00]\n",
      "   [9.80000000e+01 0.00000000e+00 9.49100058e-02 3.62952000e+05 2.49134981e+01 0.00000000e+00]\n",
      "   [7.22000000e+02 0.00000000e+00 2.83990586e-01 4.66345800e+06 2.49134981e+01 0.00000000e+00]]\n",
      "\n",
      "  [[9.80000000e+01 0.00000000e+00 9.49100058e-02 3.62952000e+05 2.49134981e+01 0.00000000e+00]\n",
      "   [0.00000000e+00 0.00000000e+00 0.00000000e+00 0.00000000e+00 0.00000000e+00 0.00000000e+00]\n",
      "   [2.88000000e+02 0.00000000e+00 5.05498759e-02 2.42440200e+06 0.00000000e+00 0.00000000e+00]]\n",
      "\n",
      "  [[7.22000000e+02 0.00000000e+00 2.83990586e-01 4.66345800e+06 2.49134981e+01 0.00000000e+00]\n",
      "   [2.88000000e+02 0.00000000e+00 5.05498759e-02 2.42440200e+06 0.00000000e+00 0.00000000e+00]\n",
      "   [0.00000000e+00 0.00000000e+00 0.00000000e+00 0.00000000e+00 0.00000000e+00 0.00000000e+00]]]\n",
      "\n",
      "\n",
      " [[[0.00000000e+00 0.00000000e+00 0.00000000e+00 0.00000000e+00 0.00000000e+00 0.00000000e+00]\n",
      "   [2.00000000e+00 0.00000000e+00 0.00000000e+00 0.00000000e+00 3.07574225e-01 2.00000000e-04]\n",
      "   [3.20000000e+01 0.00000000e+00 0.00000000e+00 9.24800000e+03 0.00000000e+00 3.36200000e-01]]\n",
      "\n",
      "  [[2.00000000e+00 0.00000000e+00 0.00000000e+00 0.00000000e+00 3.07574225e-01 2.00000000e-04]\n",
      "   [0.00000000e+00 0.00000000e+00 0.00000000e+00 0.00000000e+00 0.00000000e+00 0.00000000e+00]\n",
      "   [1.80000000e+01 0.00000000e+00 0.00000000e+00 9.24800000e+03 3.07574225e-01 3.52800000e-01]]\n",
      "\n",
      "  [[3.20000000e+01 0.00000000e+00 0.00000000e+00 9.24800000e+03 0.00000000e+00 3.36200000e-01]\n",
      "   [1.80000000e+01 0.00000000e+00 0.00000000e+00 9.24800000e+03 3.07574225e-01 3.52800000e-01]\n",
      "   [0.00000000e+00 0.00000000e+00 0.00000000e+00 0.00000000e+00 0.00000000e+00 0.00000000e+00]]]\n",
      "\n",
      "\n",
      " [[[0.00000000e+00 0.00000000e+00 0.00000000e+00 0.00000000e+00 0.00000000e+00 0.00000000e+00]\n",
      "   [1.80000000e+01 0.00000000e+00 0.00000000e+00 9.24800000e+03 3.07574225e-01 3.52800000e-01]\n",
      "   [2.88000000e+02 0.00000000e+00 0.00000000e+00 2.39432000e+05 3.07574225e-01 3.36200000e-01]]\n",
      "\n",
      "  [[1.80000000e+01 0.00000000e+00 0.00000000e+00 9.24800000e+03 3.07574225e-01 3.52800000e-01]\n",
      "   [0.00000000e+00 0.00000000e+00 0.00000000e+00 0.00000000e+00 0.00000000e+00 0.00000000e+00]\n",
      "   [1.62000000e+02 0.00000000e+00 0.00000000e+00 1.54568000e+05 0.00000000e+00 2.00000000e-04]]\n",
      "\n",
      "  [[2.88000000e+02 0.00000000e+00 0.00000000e+00 2.39432000e+05 3.07574225e-01 3.36200000e-01]\n",
      "   [1.62000000e+02 0.00000000e+00 0.00000000e+00 1.54568000e+05 0.00000000e+00 2.00000000e-04]\n",
      "   [0.00000000e+00 0.00000000e+00 0.00000000e+00 0.00000000e+00 0.00000000e+00 0.00000000e+00]]]]\n",
      "(11765, 3, 3, 6)\n"
     ]
    }
   ],
   "source": [
    "x_data = np.array(x1_data)\n",
    "y_data = np.array(y1_data)\n",
    "print(x_data[:10])\n",
    "print(x_data.shape)"
   ]
  },
  {
   "cell_type": "code",
   "execution_count": 10,
   "metadata": {},
   "outputs": [
    {
     "data": {
      "text/plain": [
       "11765"
      ]
     },
     "execution_count": 10,
     "metadata": {},
     "output_type": "execute_result"
    }
   ],
   "source": [
    "len(x_data)"
   ]
  },
  {
   "cell_type": "markdown",
   "metadata": {},
   "source": [
    "### Hyper Parameters"
   ]
  },
  {
   "cell_type": "code",
   "execution_count": 11,
   "metadata": {},
   "outputs": [],
   "source": [
    "learning_rate = 0.00005\n",
    "training_epochs = 70\n",
    "batch_size = 100\n",
    "\n",
    "tf.random.set_seed(777) # weight 초기화용"
   ]
  },
  {
   "cell_type": "markdown",
   "metadata": {},
   "source": [
    "### Creating a Checkpoint Directory"
   ]
  },
  {
   "cell_type": "code",
   "execution_count": 12,
   "metadata": {},
   "outputs": [],
   "source": [
    "cur_dir = os.getcwd()\n",
    "ckpt_dir_name = 'checkpoints'\n",
    "model_dir_name = 'cnn_keras_sequential_eager_입력데이터 넣기 완료'\n",
    "\n",
    "checkpoint_dir = os.path.join(cur_dir, ckpt_dir_name, model_dir_name)\n",
    "os.makedirs(checkpoint_dir, exist_ok=True)\n",
    "\n",
    "checkpoint_prefix = os.path.join(checkpoint_dir, model_dir_name)"
   ]
  },
  {
   "cell_type": "markdown",
   "metadata": {},
   "source": [
    "### split train and test "
   ]
  },
  {
   "cell_type": "code",
   "execution_count": 13,
   "metadata": {},
   "outputs": [
    {
     "name": "stdout",
     "output_type": "stream",
     "text": [
      "8235\n",
      "8235\n"
     ]
    }
   ],
   "source": [
    "from sklearn.model_selection import train_test_split\n",
    "trnx, tstx, trny, tsty = train_test_split(x_data, y_data, test_size=0.3, random_state=111)\n",
    "# trnx = np.expand_dims(trnx,axis=-1)\n",
    "# tstx = np.expand_dims(tstx,axis=-1)\n",
    "print(len(trnx))\n",
    "print(len(trny))"
   ]
  },
  {
   "cell_type": "markdown",
   "metadata": {},
   "source": [
    "### Model Function"
   ]
  },
  {
   "cell_type": "code",
   "execution_count": 14,
   "metadata": {},
   "outputs": [],
   "source": [
    "model = keras.Sequential()#이제 계층을 순차적으로 연결 가능\n",
    "model.add(keras.layers.Conv2D(filters=32, kernel_size=3, activation=tf.nn.relu, padding='SAME', \n",
    "                              input_shape=(time_slice, time_slice, 6)))# input_shape => 첫 layer에만 선언\n",
    "model.add(keras.layers.MaxPool2D(padding='SAME'))\n",
    "model.add(keras.layers.Conv2D(filters=64, kernel_size=3, activation=tf.nn.relu, padding='SAME'))\n",
    "model.add(keras.layers.MaxPool2D(padding='SAME'))\n",
    "model.add(keras.layers.Conv2D(filters=128, kernel_size=3, activation=tf.nn.relu, padding='SAME'))\n",
    "model.add(keras.layers.MaxPool2D(padding='SAME'))\n",
    "model.add(keras.layers.Flatten())\n",
    "model.add(keras.layers.Dense(256, activation=tf.nn.relu))\n",
    "#수정사항 2, softmax\n",
    "model.add(keras.layers.Dense(1, activation=tf.nn.sigmoid))"
   ]
  },
  {
   "cell_type": "code",
   "execution_count": 15,
   "metadata": {
    "scrolled": true
   },
   "outputs": [
    {
     "name": "stdout",
     "output_type": "stream",
     "text": [
      "Model: \"sequential\"\n",
      "_________________________________________________________________\n",
      "Layer (type)                 Output Shape              Param #   \n",
      "=================================================================\n",
      "conv2d (Conv2D)              (None, 3, 3, 32)          1760      \n",
      "_________________________________________________________________\n",
      "max_pooling2d (MaxPooling2D) (None, 2, 2, 32)          0         \n",
      "_________________________________________________________________\n",
      "conv2d_1 (Conv2D)            (None, 2, 2, 64)          18496     \n",
      "_________________________________________________________________\n",
      "max_pooling2d_1 (MaxPooling2 (None, 1, 1, 64)          0         \n",
      "_________________________________________________________________\n",
      "conv2d_2 (Conv2D)            (None, 1, 1, 128)         73856     \n",
      "_________________________________________________________________\n",
      "max_pooling2d_2 (MaxPooling2 (None, 1, 1, 128)         0         \n",
      "_________________________________________________________________\n",
      "flatten (Flatten)            (None, 128)               0         \n",
      "_________________________________________________________________\n",
      "dense (Dense)                (None, 256)               33024     \n",
      "_________________________________________________________________\n",
      "dense_1 (Dense)              (None, 1)                 257       \n",
      "=================================================================\n",
      "Total params: 127,393\n",
      "Trainable params: 127,393\n",
      "Non-trainable params: 0\n",
      "_________________________________________________________________\n"
     ]
    }
   ],
   "source": [
    "model.summary()"
   ]
  },
  {
   "cell_type": "code",
   "execution_count": 16,
   "metadata": {},
   "outputs": [],
   "source": [
    "#수정사항 categorical\n",
    "model.compile(loss='binary_crossentropy', optimizer = keras.optimizers.Nadam(lr = learning_rate,) , metrics=['accuracy'])"
   ]
  },
  {
   "cell_type": "code",
   "execution_count": 17,
   "metadata": {
    "scrolled": true
   },
   "outputs": [
    {
     "name": "stdout",
     "output_type": "stream",
     "text": [
      "Train on 8235 samples, validate on 3530 samples\n",
      "Epoch 1/70\n",
      "8235/8235 [==============================] - 3s 413us/sample - loss: 258.7893 - accuracy: 0.5212 - val_loss: 58.2278 - val_accuracy: 0.6244\n",
      "Epoch 2/70\n",
      "8235/8235 [==============================] - 1s 88us/sample - loss: 79.3312 - accuracy: 0.5664 - val_loss: 72.4700 - val_accuracy: 0.5241\n",
      "Epoch 3/70\n",
      "8235/8235 [==============================] - 1s 87us/sample - loss: 112.6458 - accuracy: 0.6070 - val_loss: 1011.2404 - val_accuracy: 0.4280\n",
      "Epoch 4/70\n",
      "8235/8235 [==============================] - 1s 85us/sample - loss: 423.1198 - accuracy: 0.5540 - val_loss: 39.2942 - val_accuracy: 0.6813\n",
      "Epoch 5/70\n",
      "8235/8235 [==============================] - 1s 88us/sample - loss: 311.1821 - accuracy: 0.5868 - val_loss: 66.1743 - val_accuracy: 0.6521\n",
      "Epoch 6/70\n",
      "8235/8235 [==============================] - 1s 84us/sample - loss: 93.9686 - accuracy: 0.6306 - val_loss: 90.2899 - val_accuracy: 0.6224\n",
      "Epoch 7/70\n",
      "8235/8235 [==============================] - 1s 90us/sample - loss: 41.8042 - accuracy: 0.6565 - val_loss: 36.3629 - val_accuracy: 0.6456\n",
      "Epoch 8/70\n",
      "8235/8235 [==============================] - 1s 87us/sample - loss: 77.2058 - accuracy: 0.6556 - val_loss: 20.5369 - val_accuracy: 0.6771\n",
      "Epoch 9/70\n",
      "8235/8235 [==============================] - 1s 88us/sample - loss: 39.8126 - accuracy: 0.6693 - val_loss: 248.7998 - val_accuracy: 0.5507\n",
      "Epoch 10/70\n",
      "8235/8235 [==============================] - 1s 85us/sample - loss: 62.3130 - accuracy: 0.6750 - val_loss: 104.6926 - val_accuracy: 0.5983\n",
      "Epoch 11/70\n",
      "8235/8235 [==============================] - 1s 84us/sample - loss: 138.7908 - accuracy: 0.6706 - val_loss: 1351.3684 - val_accuracy: 0.4575\n",
      "Epoch 12/70\n",
      "8235/8235 [==============================] - 1s 83us/sample - loss: 467.8238 - accuracy: 0.6027 - val_loss: 57.3644 - val_accuracy: 0.7159\n",
      "Epoch 13/70\n",
      "8235/8235 [==============================] - 1s 85us/sample - loss: 489.5208 - accuracy: 0.6045 - val_loss: 141.5271 - val_accuracy: 0.6312\n",
      "Epoch 14/70\n",
      "8235/8235 [==============================] - 1s 85us/sample - loss: 94.8831 - accuracy: 0.6628 - val_loss: 37.3901 - val_accuracy: 0.6816\n",
      "Epoch 15/70\n",
      "8235/8235 [==============================] - 1s 85us/sample - loss: 403.1300 - accuracy: 0.6327 - val_loss: 1140.4643 - val_accuracy: 0.4949\n",
      "Epoch 16/70\n",
      "8235/8235 [==============================] - 1s 91us/sample - loss: 544.2625 - accuracy: 0.6210 - val_loss: 139.6704 - val_accuracy: 0.6751\n",
      "Epoch 17/70\n",
      "8235/8235 [==============================] - 1s 86us/sample - loss: 542.2350 - accuracy: 0.6239 - val_loss: 189.2531 - val_accuracy: 0.7297\n",
      "Epoch 18/70\n",
      "8235/8235 [==============================] - 1s 89us/sample - loss: 523.6342 - accuracy: 0.6362 - val_loss: 552.3607 - val_accuracy: 0.6289\n",
      "Epoch 19/70\n",
      "8235/8235 [==============================] - 1s 85us/sample - loss: 190.4755 - accuracy: 0.6872 - val_loss: 30.9352 - val_accuracy: 0.7020\n",
      "Epoch 20/70\n",
      "8235/8235 [==============================] - 1s 85us/sample - loss: 652.4796 - accuracy: 0.6004 - val_loss: 571.4108 - val_accuracy: 0.5952\n",
      "Epoch 21/70\n",
      "8235/8235 [==============================] - 1s 87us/sample - loss: 304.8739 - accuracy: 0.6740 - val_loss: 61.8957 - val_accuracy: 0.6805\n",
      "Epoch 22/70\n",
      "8235/8235 [==============================] - 1s 84us/sample - loss: 371.3559 - accuracy: 0.6622 - val_loss: 1016.6507 - val_accuracy: 0.5142\n",
      "Epoch 23/70\n",
      "8235/8235 [==============================] - 1s 90us/sample - loss: 436.0407 - accuracy: 0.6317 - val_loss: 152.9395 - val_accuracy: 0.6827\n",
      "Epoch 24/70\n",
      "8235/8235 [==============================] - 1s 86us/sample - loss: 64.8355 - accuracy: 0.7162 - val_loss: 19.9962 - val_accuracy: 0.7334\n",
      "Epoch 25/70\n",
      "8235/8235 [==============================] - 1s 85us/sample - loss: 557.2526 - accuracy: 0.6200 - val_loss: 352.7497 - val_accuracy: 0.6323\n",
      "Epoch 26/70\n",
      "8235/8235 [==============================] - 1s 86us/sample - loss: 190.5158 - accuracy: 0.7020 - val_loss: 66.4576 - val_accuracy: 0.6972\n",
      "Epoch 27/70\n",
      "8235/8235 [==============================] - 1s 88us/sample - loss: 25.2589 - accuracy: 0.7429 - val_loss: 12.9932 - val_accuracy: 0.7303\n",
      "Epoch 28/70\n",
      "8235/8235 [==============================] - 1s 85us/sample - loss: 34.5924 - accuracy: 0.7293 - val_loss: 8.0665 - val_accuracy: 0.7790\n",
      "Epoch 29/70\n",
      "8235/8235 [==============================] - 1s 86us/sample - loss: 41.6905 - accuracy: 0.7382 - val_loss: 33.4356 - val_accuracy: 0.6890\n",
      "Epoch 30/70\n",
      "8235/8235 [==============================] - 1s 89us/sample - loss: 39.7499 - accuracy: 0.7217 - val_loss: 30.3726 - val_accuracy: 0.6935\n",
      "Epoch 31/70\n",
      "8235/8235 [==============================] - 1s 89us/sample - loss: 19.5756 - accuracy: 0.7416 - val_loss: 41.2125 - val_accuracy: 0.6966\n",
      "Epoch 32/70\n",
      "8235/8235 [==============================] - 1s 85us/sample - loss: 109.8216 - accuracy: 0.7260 - val_loss: 1231.9901 - val_accuracy: 0.5068\n",
      "Epoch 33/70\n",
      "8235/8235 [==============================] - 1s 86us/sample - loss: 477.6604 - accuracy: 0.6400 - val_loss: 21.8030 - val_accuracy: 0.7487\n",
      "Epoch 34/70\n",
      "8235/8235 [==============================] - 1s 87us/sample - loss: 28.5628 - accuracy: 0.7304 - val_loss: 17.1597 - val_accuracy: 0.7521\n",
      "Epoch 35/70\n",
      "8235/8235 [==============================] - 1s 87us/sample - loss: 21.2286 - accuracy: 0.7382 - val_loss: 32.0090 - val_accuracy: 0.7037\n",
      "Epoch 36/70\n",
      "8235/8235 [==============================] - 1s 86us/sample - loss: 176.6197 - accuracy: 0.7064 - val_loss: 1348.0050 - val_accuracy: 0.5085\n",
      "Epoch 37/70\n",
      "8235/8235 [==============================] - 1s 87us/sample - loss: 606.2183 - accuracy: 0.6220 - val_loss: 151.6824 - val_accuracy: 0.7091\n",
      "Epoch 38/70\n",
      "8235/8235 [==============================] - 1s 86us/sample - loss: 63.2399 - accuracy: 0.7354 - val_loss: 16.8258 - val_accuracy: 0.7139\n",
      "Epoch 39/70\n",
      "8235/8235 [==============================] - 1s 89us/sample - loss: 34.2992 - accuracy: 0.7450 - val_loss: 53.8704 - val_accuracy: 0.7507\n",
      "Epoch 40/70\n",
      "8235/8235 [==============================] - 1s 84us/sample - loss: 43.2715 - accuracy: 0.7474 - val_loss: 8.7873 - val_accuracy: 0.7878\n",
      "Epoch 41/70\n",
      "8235/8235 [==============================] - 1s 86us/sample - loss: 647.7198 - accuracy: 0.6091 - val_loss: 271.9012 - val_accuracy: 0.6666\n",
      "Epoch 42/70\n",
      "8235/8235 [==============================] - 1s 86us/sample - loss: 164.7965 - accuracy: 0.7280 - val_loss: 992.8104 - val_accuracy: 0.5368\n",
      "Epoch 43/70\n",
      "8235/8235 [==============================] - 1s 84us/sample - loss: 675.9636 - accuracy: 0.5999 - val_loss: 221.3397 - val_accuracy: 0.7085\n",
      "Epoch 44/70\n",
      "8235/8235 [==============================] - 1s 88us/sample - loss: 101.5929 - accuracy: 0.7424 - val_loss: 6.2453 - val_accuracy: 0.8156\n",
      "Epoch 45/70\n",
      "8235/8235 [==============================] - 1s 87us/sample - loss: 47.1077 - accuracy: 0.7321 - val_loss: 14.6623 - val_accuracy: 0.7844\n",
      "Epoch 46/70\n",
      "8235/8235 [==============================] - 1s 87us/sample - loss: 35.4649 - accuracy: 0.7483 - val_loss: 45.8534 - val_accuracy: 0.7708\n",
      "Epoch 47/70\n",
      "8235/8235 [==============================] - 1s 86us/sample - loss: 17.1545 - accuracy: 0.7721 - val_loss: 15.7461 - val_accuracy: 0.7635\n",
      "Epoch 48/70\n",
      "8235/8235 [==============================] - 1s 86us/sample - loss: 45.2764 - accuracy: 0.7464 - val_loss: 16.7699 - val_accuracy: 0.7793\n",
      "Epoch 49/70\n",
      "8235/8235 [==============================] - 1s 87us/sample - loss: 34.1159 - accuracy: 0.7525 - val_loss: 24.7042 - val_accuracy: 0.7278\n",
      "Epoch 50/70\n",
      "8235/8235 [==============================] - 1s 87us/sample - loss: 48.9129 - accuracy: 0.7512 - val_loss: 17.7083 - val_accuracy: 0.7518\n",
      "Epoch 51/70\n",
      "8235/8235 [==============================] - 1s 88us/sample - loss: 727.5785 - accuracy: 0.5996 - val_loss: 283.0320 - val_accuracy: 0.6756\n",
      "Epoch 52/70\n",
      "8235/8235 [==============================] - 1s 91us/sample - loss: 117.9606 - accuracy: 0.7490 - val_loss: 14.2982 - val_accuracy: 0.7714\n",
      "Epoch 53/70\n",
      "8235/8235 [==============================] - 1s 91us/sample - loss: 384.7596 - accuracy: 0.7002 - val_loss: 744.6188 - val_accuracy: 0.5728\n",
      "Epoch 54/70\n",
      "8235/8235 [==============================] - 1s 90us/sample - loss: 355.7872 - accuracy: 0.6828 - val_loss: 143.7559 - val_accuracy: 0.7263\n"
     ]
    },
    {
     "name": "stdout",
     "output_type": "stream",
     "text": [
      "Epoch 55/70\n",
      "8235/8235 [==============================] - 1s 85us/sample - loss: 71.4401 - accuracy: 0.7275 - val_loss: 88.8608 - val_accuracy: 0.6989\n",
      "Epoch 56/70\n",
      "8235/8235 [==============================] - 1s 84us/sample - loss: 32.8639 - accuracy: 0.7581 - val_loss: 5.9842 - val_accuracy: 0.7960\n",
      "Epoch 57/70\n",
      "8235/8235 [==============================] - 1s 86us/sample - loss: 37.8056 - accuracy: 0.7477 - val_loss: 5.8524 - val_accuracy: 0.7977\n",
      "Epoch 58/70\n",
      "8235/8235 [==============================] - 1s 84us/sample - loss: 92.7582 - accuracy: 0.7507 - val_loss: 966.0131 - val_accuracy: 0.5453\n",
      "Epoch 59/70\n",
      "8235/8235 [==============================] - 1s 86us/sample - loss: 503.2091 - accuracy: 0.6579 - val_loss: 162.0543 - val_accuracy: 0.7071\n",
      "Epoch 60/70\n",
      "8235/8235 [==============================] - 1s 88us/sample - loss: 68.4785 - accuracy: 0.7439 - val_loss: 20.1315 - val_accuracy: 0.7476\n",
      "Epoch 61/70\n",
      "8235/8235 [==============================] - 1s 84us/sample - loss: 13.0648 - accuracy: 0.7732 - val_loss: 8.2886 - val_accuracy: 0.7858\n",
      "Epoch 62/70\n",
      "8235/8235 [==============================] - 1s 89us/sample - loss: 13.4927 - accuracy: 0.7790 - val_loss: 9.3769 - val_accuracy: 0.7847\n",
      "Epoch 63/70\n",
      "8235/8235 [==============================] - 1s 85us/sample - loss: 508.6811 - accuracy: 0.6696 - val_loss: 378.2772 - val_accuracy: 0.6490\n",
      "Epoch 64/70\n",
      "8235/8235 [==============================] - 1s 85us/sample - loss: 250.1418 - accuracy: 0.7241 - val_loss: 111.9392 - val_accuracy: 0.6994\n",
      "Epoch 65/70\n",
      "8235/8235 [==============================] - 1s 86us/sample - loss: 331.2799 - accuracy: 0.6786 - val_loss: 571.6234 - val_accuracy: 0.5932\n",
      "Epoch 66/70\n",
      "8235/8235 [==============================] - 1s 84us/sample - loss: 274.9572 - accuracy: 0.7123 - val_loss: 118.4221 - val_accuracy: 0.7462\n",
      "Epoch 67/70\n",
      "8235/8235 [==============================] - 1s 87us/sample - loss: 57.4035 - accuracy: 0.7511 - val_loss: 7.7975 - val_accuracy: 0.8057\n",
      "Epoch 68/70\n",
      "8235/8235 [==============================] - 1s 87us/sample - loss: 262.9951 - accuracy: 0.7036 - val_loss: 611.4252 - val_accuracy: 0.5870\n",
      "Epoch 69/70\n",
      "8235/8235 [==============================] - 1s 84us/sample - loss: 297.7228 - accuracy: 0.6748 - val_loss: 125.7513 - val_accuracy: 0.7263\n",
      "Epoch 70/70\n",
      "8235/8235 [==============================] - 1s 87us/sample - loss: 63.3657 - accuracy: 0.7503 - val_loss: 28.0046 - val_accuracy: 0.7348\n"
     ]
    }
   ],
   "source": [
    "history = model.fit(x=trnx, y=trny, validation_data = (tstx, tsty), batch_size = batch_size, epochs = training_epochs)"
   ]
  },
  {
   "cell_type": "code",
   "execution_count": 18,
   "metadata": {},
   "outputs": [
    {
     "data": {
      "image/png": "[encoded data removed]",
      "text/plain": [
       "<Figure size 432x288 with 1 Axes>"
      ]
     },
     "metadata": {
      "needs_background": "light"
     },
     "output_type": "display_data"
    },
    {
     "data": {
      "image/png": "[encoded data removed]",
      "text/plain": [
       "<Figure size 432x288 with 1 Axes>"
      ]
     },
     "metadata": {
      "needs_background": "light"
     },
     "output_type": "display_data"
    },
    {
     "name": "stdout",
     "output_type": "stream",
     "text": [
      "0.7348442\n",
      "0.8155807\n"
     ]
    }
   ],
   "source": [
    "# summerize history for accuracy\n",
    "plt.plot(history.history['accuracy'])\n",
    "plt.plot(history.history['val_accuracy'])\n",
    "plt.title('model accuracy')\n",
    "plt.ylabel('accuracy')\n",
    "plt.xlabel('epoch')\n",
    "plt.legend(['train', 'test'], loc='upper left')\n",
    "plt.show()\n",
    "\n",
    "# summerize history for loss\n",
    "plt.plot(history.history['loss'])\n",
    "plt.plot(history.history['val_loss'])\n",
    "plt.title('model loss')\n",
    "plt.ylabel('loss')\n",
    "plt.xlabel('epoch')\n",
    "plt.legend(['train', 'test'], loc='upper left')\n",
    "plt.show()\n",
    "\n",
    "# test data 마지막 정확도\n",
    "print(history.history['val_accuracy'][-1])\n",
    "# test data 가장 높은 정확도\n",
    "print(np.max(history.history['val_accuracy']))"
   ]
  },
  {
   "cell_type": "code",
   "execution_count": 19,
   "metadata": {},
   "outputs": [
    {
     "name": "stdout",
     "output_type": "stream",
     "text": [
      "실제 : 0, 예측 : 0 -  1347\n",
      "실제 : 1, 예측 : 0 -  133\n",
      "실제 : 1, 예측 : 1 -  1247\n",
      "실제 : 0, 예측 : 1 -  803\n",
      "총 개수 :  3530\n"
     ]
    }
   ],
   "source": [
    "#sigmoid\n",
    "y_pred = model.predict(tstx, batch_size=batch_size)\n",
    "a = 0\n",
    "b = 0\n",
    "c = 0\n",
    "d = 0\n",
    "for i in range(len(y_pred)) :\n",
    "    if y_pred[i] < 0.5 : # event03 발생 X 추측\n",
    "        if tsty[i] == 0 :\n",
    "            a = a + 1\n",
    "        else :\n",
    "            b=b + 1\n",
    "    else : # event03 발생 O 추측\n",
    "        if tsty[i] == 1 : \n",
    "            c=c + 1\n",
    "        else :\n",
    "            d= d+ 1\n",
    "print(\"실제 : 0, 예측 : 0 - \", a)\n",
    "print(\"실제 : 1, 예측 : 0 - \", b)\n",
    "print(\"실제 : 1, 예측 : 1 - \", c)\n",
    "print(\"실제 : 0, 예측 : 1 - \", d)\n",
    "print(\"총 개수 : \", len(y_pred))\n",
    "\n",
    "#categorical\n",
    "# a = 0\n",
    "# b = 0\n",
    "# c = 0\n",
    "# d = 0\n",
    "# for i in range(len(y_pred[:,0])) :\n",
    "#     if y_pred[i,0] > y_pred[i,1] : # event03 발생 X\n",
    "#         if tsty[i,1] == 0 :\n",
    "#             a = a + 1\n",
    "#         else :\n",
    "#             b = b + 1\n",
    "#     else :\n",
    "#         if tsty[i,1] == 1 : # event03 발생 \n",
    "#             c = c + 1\n",
    "#         else :\n",
    "#             d = d+ 1\n",
    "# print(\"실제 : 0, 예측 : 0 -> \", a)\n",
    "# print(\"실제 : 1, 예측 : 0 -> \", b)\n",
    "# print(\"실제 : 1, 예측 : 1 -> \", c)\n",
    "# print(\"실제 : 0, 예측 : 1 -> \", d)\n",
    "# print(\"전체데이터 개수 : \", len(y_pred[:,0]))"
   ]
  },
  {
   "cell_type": "code",
   "execution_count": null,
   "metadata": {},
   "outputs": [],
   "source": []
  },
  {
   "cell_type": "code",
   "execution_count": null,
   "metadata": {},
   "outputs": [],
   "source": []
  }
 ],
 "metadata": {
  "kernelspec": {
   "display_name": "Python 3",
   "language": "python",
   "name": "python3"
  },
  "language_info": {
   "codemirror_mode": {
    "name": "ipython",
    "version": 3
   },
   "file_extension": ".py",
   "mimetype": "text/x-python",
   "name": "python",
   "nbconvert_exporter": "python",
   "pygments_lexer": "ipython3",
   "version": "3.7.0"
  },
  "toc": {
   "base_numbering": 1,
   "nav_menu": {},
   "number_sections": true,
   "sideBar": true,
   "skip_h1_title": false,
   "title_cell": "Table of Contents",
   "title_sidebar": "Contents",
   "toc_cell": false,
   "toc_position": {},
   "toc_section_display": true,
   "toc_window_display": false
  }
 },
 "nbformat": 4,
 "nbformat_minor": 4
}
