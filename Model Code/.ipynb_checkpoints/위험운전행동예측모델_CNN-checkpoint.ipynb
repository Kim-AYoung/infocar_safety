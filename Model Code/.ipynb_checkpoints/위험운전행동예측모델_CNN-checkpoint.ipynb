{
 "cells": [
  {
   "cell_type": "markdown",
   "metadata": {},
   "source": [
    "### Import"
   ]
  },
  {
   "cell_type": "code",
   "execution_count": 1,
   "metadata": {},
   "outputs": [],
   "source": [
    "import tensorflow as tf\n",
    "# tf 2.0부터 keras는 tensorflow의 공식 API\n",
    "from tensorflow import keras\n",
    "from tensorflow.keras.utils import to_categorical\n",
    "from tensorflow.keras import layers, models, optimizers\n",
    "\n",
    "import numpy as np\n",
    "np.set_printoptions(threshold=np.inf, linewidth=np.inf)\n",
    "import matplotlib.pyplot as plt\n",
    "%matplotlib inline\n",
    "import pandas as pd\n",
    "pd.set_option('display.max_row', 40000)\n",
    "pd.set_option('display.max_column', 10000)\n",
    "\n",
    "import os\n",
    "import datetime\n",
    "# Log Data가 저장될 디렉터리 경로 만들기\n",
    "dir_name = \"Learning_log\"\n",
    "\n",
    "def make_Tensorboard_dir(dir_name):\n",
    "    root_logdir = os.path.join(os.curdir, dir_name)\n",
    "    sub_dir_name = datetime.datetime.now().strftime(\"%Y%m%d-%H%M%S\")\n",
    "    return os.path.join(root_logdir, sub_dir_name)\n",
    "\n",
    "from os.path import join\n",
    "import sqlite3\n",
    "import glob\n",
    "import csv"
   ]
  },
  {
   "cell_type": "code",
   "execution_count": 2,
   "metadata": {},
   "outputs": [
    {
     "name": "stderr",
     "output_type": "stream",
     "text": [
      "2021-12-10 06:42:55.508046: I tensorflow/compiler/jit/xla_cpu_device.cc:41] Not creating XLA devices, tf_xla_enable_xla_devices not set\n"
     ]
    }
   ],
   "source": [
    "gpus = tf.config.experimental.list_physical_devices('GPU')\n",
    "if gpus:\n",
    "    try:\n",
    "        # Currently, memory growth needs to be the same across GPUs\n",
    "        for gpu in gpus:\n",
    "            tf.config.experimental.set_memory_growth(gpu, True)\n",
    "            logical_gpus = tf.config.experimental.list_logical_devices('GPU')\n",
    "            print(len(gpus), \"Physical GPUs,\", len(logical_gpus), \"Logical GPUs\")\n",
    "    except RuntimeError as e:\n",
    "        # Memory growth must be set before GPUs have been initialized\n",
    "        print(e)"
   ]
  },
  {
   "cell_type": "markdown",
   "metadata": {},
   "source": [
    "### Data"
   ]
  },
  {
   "cell_type": "code",
   "execution_count": 3,
   "metadata": {
    "scrolled": true
   },
   "outputs": [
    {
     "name": "stdout",
     "output_type": "stream",
     "text": [
      "(7264318, 3, 10)\n",
      "(7264317, 1)\n"
     ]
    }
   ],
   "source": [
    "path = \"sec/*\" #-------------------------자신의 db파일이 있는 폴더로 수정---------------------------\n",
    "file_list =  glob.glob(path)\n",
    "file_list_db = [file for file in file_list if file.endswith(\".db\")]\n",
    "# print (\"file_list: {}\".format(file_list_db))\n",
    "len(file_list_db)\n",
    "# EventCode가 일어났을 당시의 초당 주행기록 가져오기\n",
    "\n",
    "time_slice = 3\n",
    "\n",
    "temp1 = np.zeros((1,time_slice,10)) # srcrec_df2 초기화\n",
    "\n",
    "srcrec_df2 =temp1 # 연결한 db들의 x data 저장소\n",
    "srcrec_df4 = pd.DataFrame() # 연결한 db들의 y data 저장소\n",
    "\n",
    "for i in range (0,len(file_list_db)):\n",
    "    # event 파일 가져오기\n",
    "    f = open('event.csv') #-------------------------자신의 event파일이 있는 폴더로 수정---------------------------\n",
    "    csvReader = csv.reader(f)\n",
    "    # db연결\n",
    "    conn = sqlite3.connect(file_list_db[i])\n",
    "    c = conn. cursor()\n",
    "    # event 테이블 유무 확인 후, 있으면 제거\n",
    "    c.execute('Drop Table If Exists event')\n",
    "    # event 테이블 생성\n",
    "    c.execute(\"create table event(CAR_RECDRV_KEY integer, EVENT_CODE text, EVENT_STDT text, EVENT_ENDT text)\")\n",
    "    # csv 파일 읽어 온 데이터 insert\n",
    "    for row in csvReader:\n",
    "        if row[7] == \"EVENT_CODE\":\n",
    "            continue\n",
    "        sql1 = \"insert into event (CAR_RECDRV_KEY,EVENT_CODE, EVENT_STDT, EVENT_ENDT) values (?,?,?,?)\"\n",
    "        key= int(row[1])\n",
    "        #key 추출\n",
    "        if key != int(file_list_db[i][4:11]): #src에 자신의 db파일이 있어야함, 아니면 인덱스 수정할 것\n",
    "            continue\n",
    "        code = (row[7])\n",
    "        #event 추출\n",
    "        if code[-11:] != \"EventCode03\" and code[-11:] != \"EventCode02\" and code[-11:] != \"EventCode10\":\n",
    "            continue\n",
    "        stdt = (row[8])\n",
    "        endt = (row[9])\n",
    "        c.execute(sql1,(key,code,stdt,endt))\n",
    "    #트랜잭션 저장\n",
    "    conn.commit()\n",
    "    #event 뽐기 query 실행\n",
    "    sql2 = 'SELECT SRCREC.srcValue, SRCREC.realTime, SRCREC.srcSpeed, SRCREC.srcRPM,\\\n",
    "    SRCREC.srcAPS, SRCREC.srcTPS, SRCREC.srcEngineLoad, SRCREC.srcIntakePress, SRCREC.srcIntakeAirTemp, ifnull(EVENT_CODE, \"0\") FROM SRCREC LEFT OUTER JOIN\\\n",
    "    (SELECT EVENT_CODE, EVENT_STDT s, EVENT_ENDT e FROM event\\\n",
    "    ) ON SRCREC.realTime BETWEEN strftime(\"%Y%m%d%H%M%S\",s,\"-6 seconds\")\\\n",
    "     AND strftime(\"%Y%m%d%H%M%S\",e)\\\n",
    "    EXCEPT \\\n",
    "    SELECT SRCREC.srcValue, SRCREC.realTime, SRCREC.srcSpeed, SRCREC.srcRPM,\\\n",
    "    SRCREC.srcAPS, SRCREC.srcTPS, SRCREC.srcEngineLoad, SRCREC.srcIntakePress, SRCREC.srcIntakeAirTemp, EVENT_CODE FROM SRCREC LEFT JOIN\\\n",
    "    (SELECT EVENT_CODE, EVENT_STDT s, EVENT_ENDT e FROM event\\\n",
    "    ) ON SRCREC.realTime BETWEEN strftime(\"%Y%m%d%H%M%S\",s)\\\n",
    "     AND strftime(\"%Y%m%d%H%M%S\",e)'\n",
    "    query =  c.execute(sql2)\n",
    "    cols = [column[0] for column in query.description]\n",
    "    srcrec_df = pd.DataFrame.from_records(data=query.fetchall(), columns=cols)\n",
    "    \n",
    "    # 슬라이딩 윈도우 적용\n",
    "    srcrec_df = srcrec_df.iloc[100:]\n",
    "    srcrec_df3 = srcrec_df.loc[:,\"ifnull(EVENT_CODE, \\\"0\\\")\"]\n",
    "    srcred_list =  srcrec_df.values\n",
    "    seq_len = time_slice\n",
    "    \n",
    "    if len(srcred_list) -seq_len+1 <=0:\n",
    "        continue\n",
    "        \n",
    "    data_matrix=[]\n",
    "    for i in range(0, len(srcred_list)-seq_len+1): # data를 겹친다. 0 1 2 3 4 5 -> 1 2 3 4 5 6\n",
    "        tmp_data = srcrec_df[i:i+seq_len]\n",
    "        data_matrix.append(tmp_data)\n",
    "    data_matrix_np = np.array(data_matrix)\n",
    "   \n",
    "    # 각 db의 슬라이딩 적용한 x data들 합치기\n",
    "    srcrec_df2 = np.concatenate([srcrec_df2,data_matrix_np])\n",
    "    \n",
    "    # 슬라이딩 적용으로 인해 필요없는 y data 제거\n",
    "    srcrec_df3 = srcrec_df3.iloc[time_slice - 1:]\n",
    "    srcrec_df3 = pd.DataFrame(srcrec_df3)\n",
    "    \n",
    "    srcrec_df3.loc[srcrec_df3['ifnull(EVENT_CODE, \"0\")'].str.contains('EventCode'),'ifnull(EVENT_CODE, \"0\")']='EventCode'\n",
    "    # 각 db의 슬라이딩 적용한 y data들 합치기\n",
    "    srcrec_df4 = pd.concat([srcrec_df4, srcrec_df3], ignore_index=True)\n",
    "    \n",
    "    #db 연결 종\n",
    "    c.close()\n",
    "    conn.close()\n",
    "    #파일 연결 종료\n",
    "    f.close()\n",
    "# srcrec_df2 : x data\n",
    "# srcrec_df4 : y data\n",
    "print(srcrec_df2.shape)\n",
    "print(srcrec_df4.shape)"
   ]
  },
  {
   "cell_type": "markdown",
   "metadata": {},
   "source": [
    "1. srcrec_df2를 초기화할 때 넣어준 0을 지움\n",
    "2. 여러 컬럼 중 x data에 사용할 컬럼들을 걸러냄"
   ]
  },
  {
   "cell_type": "code",
   "execution_count": 4,
   "metadata": {},
   "outputs": [
    {
     "data": {
      "text/plain": [
       "7264317"
      ]
     },
     "execution_count": 4,
     "metadata": {},
     "output_type": "execute_result"
    }
   ],
   "source": [
    "x_data = srcrec_df2[1:,:,2:9]\n",
    "len(x_data)"
   ]
  },
  {
   "cell_type": "code",
   "execution_count": 5,
   "metadata": {},
   "outputs": [
    {
     "name": "stdout",
     "output_type": "stream",
     "text": [
      "7264317\n"
     ]
    }
   ],
   "source": [
    "y_data = srcrec_df4.values[: ,0]\n",
    "\n",
    "y_data = pd.get_dummies(y_data).values\n",
    "\n",
    "y_data = y_data[:,0]\n",
    "\n",
    "where_0 = np.where(y_data == 0)\n",
    "where_1 = np.where(y_data == 1)\n",
    "\n",
    "y_data[where_0] = 1\n",
    "y_data[where_1] = 0\n",
    "print(len(y_data))\n",
    "#수정사항 categorical로 바꾸기\n",
    "# y_data = to_categorical(y_data)"
   ]
  },
  {
   "cell_type": "markdown",
   "metadata": {},
   "source": [
    "### Change from sequence x data to image "
   ]
  },
  {
   "cell_type": "code",
   "execution_count": 6,
   "metadata": {},
   "outputs": [],
   "source": [
    "# imaging time series as unthresholded recurrence plot\n",
    "def r_plot(data,delay=0):\n",
    "    #input datatype data : ndarray, 1xn, n-number of samples in each series\n",
    "    #input datatype delay : int, delay embedding for RP formation, default value is 1\n",
    "    #output datatype rp : ndarray, nxn, unthresholded recurrence plot for series\n",
    "    transformed = np.zeros([2,len(data)-delay])\n",
    "    transformed[0,:] = data[0:len(data)-delay]\n",
    "    transformed[1,:] = data[delay:len(data)]\n",
    "    rp = np.zeros([len(data)-delay,len(data)-delay])\n",
    "    for i in range(len(rp)):\n",
    "        temp = np.tile(transformed[:,i],(len(rp),1)).T-transformed\n",
    "        temp2 = np.square(temp)\n",
    "        rp[i,:] = np.sum(temp2,axis=0)\n",
    "    return np.array(rp).tolist()"
   ]
  },
  {
   "cell_type": "code",
   "execution_count": 7,
   "metadata": {},
   "outputs": [
    {
     "name": "stdout",
     "output_type": "stream",
     "text": [
      "3\n",
      "3\n",
      "7\n"
     ]
    }
   ],
   "source": [
    "import matplotlib.pyplot as plt\n",
    "\n",
    "#RP embedding\n",
    "total = []\n",
    "for row in range(0, len(x_data)):\n",
    "    RP=[]\n",
    "    for col in range(0, len(x_data[row][0])):       \n",
    "        toy_data=x_data[row,:,col]\n",
    "        RP.append(r_plot(toy_data))\n",
    "    total.append(RP)\n",
    "    \n",
    "total2 = []\n",
    "for rp in total:\n",
    "    RP2 = []\n",
    "    myrp2 ={}\n",
    "    for i in range(0, time_slice):\n",
    "        myrp2[i] = np.zeros((time_slice, 7))\n",
    "    for rp_count in range(0, len(myrp2)):\n",
    "        myrp = myrp2[rp_count]\n",
    "        rp_mini_count=0;\n",
    "        for rp_mini in rp:\n",
    "            for index in range(0, len(rp_mini[0])):\n",
    "                myrp[index][rp_mini_count] = rp_mini[rp_count][index]\n",
    "            rp_mini_count = rp_mini_count+1\n",
    "            \n",
    "    for key, value in myrp2.items():\n",
    "        RP2.append(value)\n",
    "        \n",
    "    total2.append(RP2)        \n",
    "\n",
    "print(len(total2[0]))\n",
    "print(len(total2[0][0]))\n",
    "print(len(total2[0][0][0]))\n",
    "x_data = total2"
   ]
  },
  {
   "cell_type": "markdown",
   "metadata": {},
   "source": [
    "### make the 0 and 1 ratio the same"
   ]
  },
  {
   "cell_type": "code",
   "execution_count": 8,
   "metadata": {},
   "outputs": [
    {
     "name": "stdout",
     "output_type": "stream",
     "text": [
      "7264317\n",
      "230250\n"
     ]
    }
   ],
   "source": [
    "import math\n",
    "\n",
    "yindex=0\n",
    "y1index=0\n",
    "x1_data = []\n",
    "y1_data = []\n",
    "\n",
    "print(len(y_data))\n",
    "for ydata in y_data:\n",
    "    if ydata == 1:\n",
    "        x1_data.append(x_data[yindex])\n",
    "        y1_data.append(y_data[yindex])\n",
    "        y1index= y1index+1\n",
    "    yindex = yindex+1\n",
    "print(y1index)\n",
    "\n",
    "yindex=0\n",
    "y1getindex=0 #가져오는 데이터 카운트 \n",
    "for ydata in y_data:\n",
    "    if ydata == 0:\n",
    "        if y1getindex == math.floor(y1index*1.5):# event: normal = 1 : 1.5\n",
    "            break\n",
    "        x1_data.append(x_data[yindex])\n",
    "        y1_data.append(y_data[yindex])\n",
    "        y1getindex= y1getindex+1\n",
    "    yindex = yindex+1\n"
   ]
  },
  {
   "cell_type": "code",
   "execution_count": 9,
   "metadata": {},
   "outputs": [
    {
     "name": "stdout",
     "output_type": "stream",
     "text": [
      "(575625, 3, 3, 7)\n"
     ]
    }
   ],
   "source": [
    "x_data = np.array(x1_data)\n",
    "y_data = np.array(y1_data)\n",
    "#print(x_data[:10])\n",
    "print(x_data.shape)"
   ]
  },
  {
   "cell_type": "markdown",
   "metadata": {},
   "source": [
    "### Hyper Parameters"
   ]
  },
  {
   "cell_type": "code",
   "execution_count": 10,
   "metadata": {},
   "outputs": [],
   "source": [
    "learning_rate = 0.00005\n",
    "training_epochs = 700\n",
    "batch_size = 256\n",
    "\n",
    "tf.random.set_seed(777) # weight 초기화용"
   ]
  },
  {
   "cell_type": "markdown",
   "metadata": {},
   "source": [
    "### Creating a Checkpoint Directory"
   ]
  },
  {
   "cell_type": "code",
   "execution_count": 11,
   "metadata": {},
   "outputs": [],
   "source": [
    "cur_dir = os.getcwd()\n",
    "ckpt_dir_name = 'checkpoints'\n",
    "model_dir_name = 'cnn_keras_sequential_eager_입력데이터 넣기 완료'\n",
    "\n",
    "checkpoint_dir = os.path.join(cur_dir, ckpt_dir_name, model_dir_name)\n",
    "os.makedirs(checkpoint_dir, exist_ok=True)\n",
    "\n",
    "checkpoint_prefix = os.path.join(checkpoint_dir, model_dir_name)"
   ]
  },
  {
   "cell_type": "markdown",
   "metadata": {},
   "source": [
    "### split train and test "
   ]
  },
  {
   "cell_type": "code",
   "execution_count": 12,
   "metadata": {},
   "outputs": [
    {
     "name": "stdout",
     "output_type": "stream",
     "text": [
      "368400\n",
      "368400\n"
     ]
    }
   ],
   "source": [
    "from sklearn.model_selection import train_test_split\n",
    "trnx, tstx, trny, tsty = train_test_split(x_data, y_data, test_size=0.2, random_state=111)\n",
    "trnx, valx, trny, valy = train_test_split(trnx, trny, test_size=0.2, random_state=111)\n",
    "# trnx = np.expand_dims(trnx,axis=-1)\n",
    "# tstx = np.expand_dims(tstx,axis=-1)\n",
    "print(len(trnx))\n",
    "print(len(trny))"
   ]
  },
  {
   "cell_type": "markdown",
   "metadata": {},
   "source": [
    "### Model Function"
   ]
  },
  {
   "cell_type": "code",
   "execution_count": 13,
   "metadata": {},
   "outputs": [
    {
     "name": "stderr",
     "output_type": "stream",
     "text": [
      "2021-12-10 11:11:34.699902: I tensorflow/core/platform/cpu_feature_guard.cc:142] This TensorFlow binary is optimized with oneAPI Deep Neural Network Library (oneDNN) to use the following CPU instructions in performance-critical operations:  SSE4.1 SSE4.2 AVX AVX2 FMA\n",
      "To enable them in other operations, rebuild TensorFlow with the appropriate compiler flags.\n",
      "2021-12-10 11:11:34.704236: I tensorflow/core/common_runtime/process_util.cc:146] Creating new thread pool with default inter op setting: 2. Tune using inter_op_parallelism_threads for best performance.\n"
     ]
    }
   ],
   "source": [
    "model = keras.Sequential()#이제 계층을 순차적으로 연결 가능\n",
    "model.add(keras.layers.Conv2D(filters=32, kernel_size=3, activation=tf.nn.relu, padding='SAME', \n",
    "                              input_shape=(time_slice, time_slice, 7)))# input_shape => 첫 layer에만 선언\n",
    "model.add(keras.layers.MaxPool2D(padding='SAME'))\n",
    "model.add(keras.layers.Conv2D(filters=64, kernel_size=3, activation=tf.nn.relu, padding='SAME'))\n",
    "model.add(keras.layers.MaxPool2D(padding='SAME'))\n",
    "model.add(keras.layers.Conv2D(filters=128, kernel_size=3, activation=tf.nn.relu, padding='SAME'))\n",
    "model.add(keras.layers.MaxPool2D(padding='SAME'))\n",
    "model.add(keras.layers.Flatten())\n",
    "model.add(keras.layers.Dense(256, activation=tf.nn.relu))\n",
    "#수정사항 2, softmax\n",
    "model.add(keras.layers.Dense(1, activation=tf.nn.sigmoid))"
   ]
  },
  {
   "cell_type": "code",
   "execution_count": 14,
   "metadata": {
    "scrolled": true
   },
   "outputs": [
    {
     "name": "stdout",
     "output_type": "stream",
     "text": [
      "Model: \"sequential\"\n",
      "_________________________________________________________________\n",
      "Layer (type)                 Output Shape              Param #   \n",
      "=================================================================\n",
      "conv2d (Conv2D)              (None, 3, 3, 32)          2048      \n",
      "_________________________________________________________________\n",
      "max_pooling2d (MaxPooling2D) (None, 2, 2, 32)          0         \n",
      "_________________________________________________________________\n",
      "conv2d_1 (Conv2D)            (None, 2, 2, 64)          18496     \n",
      "_________________________________________________________________\n",
      "max_pooling2d_1 (MaxPooling2 (None, 1, 1, 64)          0         \n",
      "_________________________________________________________________\n",
      "conv2d_2 (Conv2D)            (None, 1, 1, 128)         73856     \n",
      "_________________________________________________________________\n",
      "max_pooling2d_2 (MaxPooling2 (None, 1, 1, 128)         0         \n",
      "_________________________________________________________________\n",
      "flatten (Flatten)            (None, 128)               0         \n",
      "_________________________________________________________________\n",
      "dense (Dense)                (None, 256)               33024     \n",
      "_________________________________________________________________\n",
      "dense_1 (Dense)              (None, 1)                 257       \n",
      "=================================================================\n",
      "Total params: 127,681\n",
      "Trainable params: 127,681\n",
      "Non-trainable params: 0\n",
      "_________________________________________________________________\n"
     ]
    }
   ],
   "source": [
    "model.summary()"
   ]
  },
  {
   "cell_type": "code",
   "execution_count": 15,
   "metadata": {},
   "outputs": [
    {
     "name": "stderr",
     "output_type": "stream",
     "text": [
      "2021-12-10 11:11:34.811609: I tensorflow/core/profiler/lib/profiler_session.cc:136] Profiler session initializing.\n",
      "2021-12-10 11:11:34.811641: I tensorflow/core/profiler/lib/profiler_session.cc:155] Profiler session started.\n",
      "2021-12-10 11:11:34.811710: I tensorflow/core/profiler/lib/profiler_session.cc:172] Profiler session tear down.\n"
     ]
    }
   ],
   "source": [
    "from tensorflow.keras.callbacks import EarlyStopping\n",
    "\n",
    "\n",
    "#수정사항 categorical\n",
    "model.compile(loss='binary_crossentropy', optimizer = keras.optimizers.Adam(lr = learning_rate,) , metrics=['accuracy'])\n",
    "\n",
    "# 텐서보드에 기록\n",
    "TB_log_dir = make_Tensorboard_dir(dir_name)\n",
    "TensorB = tf.keras.callbacks.TensorBoard(log_dir = TB_log_dir)\n",
    "\n",
    "early_stopping = EarlyStopping(patience=20)"
   ]
  },
  {
   "cell_type": "code",
   "execution_count": 16,
   "metadata": {
    "scrolled": true
   },
   "outputs": [
    {
     "name": "stderr",
     "output_type": "stream",
     "text": [
      "2021-12-10 11:11:35.025463: I tensorflow/compiler/mlir/mlir_graph_optimization_pass.cc:116] None of the MLIR optimization passes are enabled (registered 2)\n",
      "2021-12-10 11:11:35.044566: I tensorflow/core/platform/profile_utils/cpu_utils.cc:112] CPU Frequency: 2199955000 Hz\n"
     ]
    },
    {
     "name": "stdout",
     "output_type": "stream",
     "text": [
      "Epoch 1/700\n",
      "   1/1440 [..............................] - ETA: 29:20 - loss: 1350.1780 - accuracy: 0.5742"
     ]
    },
    {
     "name": "stderr",
     "output_type": "stream",
     "text": [
      "2021-12-10 11:11:36.375694: I tensorflow/core/profiler/lib/profiler_session.cc:136] Profiler session initializing.\n",
      "2021-12-10 11:11:36.375755: I tensorflow/core/profiler/lib/profiler_session.cc:155] Profiler session started.\n"
     ]
    },
    {
     "name": "stdout",
     "output_type": "stream",
     "text": [
      "   3/1440 [..............................] - ETA: 7:19 - loss: 1347.9134 - accuracy: 0.5911"
     ]
    },
    {
     "name": "stderr",
     "output_type": "stream",
     "text": [
      "2021-12-10 11:11:36.713109: I tensorflow/core/profiler/lib/profiler_session.cc:71] Profiler session collecting data.\n",
      "2021-12-10 11:11:36.717438: I tensorflow/core/profiler/lib/profiler_session.cc:172] Profiler session tear down.\n",
      "2021-12-10 11:11:36.721482: I tensorflow/core/profiler/rpc/client/save_profile.cc:137] Creating directory: ./Learning_log/20211210-111134/train/plugins/profile/2021_12_10_11_11_36\n",
      "2021-12-10 11:11:36.723376: I tensorflow/core/profiler/rpc/client/save_profile.cc:143] Dumped gzipped tool data for trace.json.gz to ./Learning_log/20211210-111134/train/plugins/profile/2021_12_10_11_11_36/ckserver.trace.json.gz\n",
      "2021-12-10 11:11:36.753162: I tensorflow/core/profiler/rpc/client/save_profile.cc:137] Creating directory: ./Learning_log/20211210-111134/train/plugins/profile/2021_12_10_11_11_36\n",
      "2021-12-10 11:11:36.754100: I tensorflow/core/profiler/rpc/client/save_profile.cc:143] Dumped gzipped tool data for memory_profile.json.gz to ./Learning_log/20211210-111134/train/plugins/profile/2021_12_10_11_11_36/ckserver.memory_profile.json.gz\n",
      "2021-12-10 11:11:36.754544: I tensorflow/core/profiler/rpc/client/capture_profile.cc:251] Creating directory: ./Learning_log/20211210-111134/train/plugins/profile/2021_12_10_11_11_36Dumped tool data for xplane.pb to ./Learning_log/20211210-111134/train/plugins/profile/2021_12_10_11_11_36/ckserver.xplane.pb\n",
      "Dumped tool data for overview_page.pb to ./Learning_log/20211210-111134/train/plugins/profile/2021_12_10_11_11_36/ckserver.overview_page.pb\n",
      "Dumped tool data for input_pipeline.pb to ./Learning_log/20211210-111134/train/plugins/profile/2021_12_10_11_11_36/ckserver.input_pipeline.pb\n",
      "Dumped tool data for tensorflow_stats.pb to ./Learning_log/20211210-111134/train/plugins/profile/2021_12_10_11_11_36/ckserver.tensorflow_stats.pb\n",
      "Dumped tool data for kernel_stats.pb to ./Learning_log/20211210-111134/train/plugins/profile/2021_12_10_11_11_36/ckserver.kernel_stats.pb\n",
      "\n"
     ]
    },
    {
     "name": "stdout",
     "output_type": "stream",
     "text": [
      "1440/1440 [==============================] - 299s 207ms/step - loss: 135.2514 - accuracy: 0.5437 - val_loss: 512.4568 - val_accuracy: 0.4679\n",
      "Epoch 2/700\n",
      "1440/1440 [==============================] - 274s 190ms/step - loss: 77.7065 - accuracy: 0.5797 - val_loss: 16.8151 - val_accuracy: 0.6126\n",
      "Epoch 3/700\n",
      "1440/1440 [==============================] - 269s 187ms/step - loss: 80.7891 - accuracy: 0.5796 - val_loss: 8.0152 - val_accuracy: 0.5781\n",
      "Epoch 4/700\n",
      "1440/1440 [==============================] - 278s 193ms/step - loss: 14.6646 - accuracy: 0.5982 - val_loss: 11.1957 - val_accuracy: 0.5875\n",
      "Epoch 5/700\n",
      "1440/1440 [==============================] - 279s 194ms/step - loss: 20.4348 - accuracy: 0.5945 - val_loss: 2.3217 - val_accuracy: 0.6018\n",
      "Epoch 6/700\n",
      "1440/1440 [==============================] - 282s 196ms/step - loss: 20.3238 - accuracy: 0.5975 - val_loss: 12.8660 - val_accuracy: 0.5835\n",
      "Epoch 7/700\n",
      "1440/1440 [==============================] - 277s 193ms/step - loss: 17.5876 - accuracy: 0.5952 - val_loss: 103.4673 - val_accuracy: 0.5482\n",
      "Epoch 8/700\n",
      "1440/1440 [==============================] - 270s 188ms/step - loss: 37.7084 - accuracy: 0.5924 - val_loss: 11.3540 - val_accuracy: 0.6046\n",
      "Epoch 9/700\n",
      "1440/1440 [==============================] - 278s 193ms/step - loss: 10.7195 - accuracy: 0.6031 - val_loss: 3.8092 - val_accuracy: 0.5999\n",
      "Epoch 10/700\n",
      "1440/1440 [==============================] - 283s 196ms/step - loss: 7.8686 - accuracy: 0.6014 - val_loss: 16.5615 - val_accuracy: 0.5781\n",
      "Epoch 11/700\n",
      "1440/1440 [==============================] - 285s 198ms/step - loss: 13.3069 - accuracy: 0.5982 - val_loss: 1.7970 - val_accuracy: 0.6166\n",
      "Epoch 12/700\n",
      "1440/1440 [==============================] - 298s 207ms/step - loss: 7.8646 - accuracy: 0.6040 - val_loss: 102.6110 - val_accuracy: 0.5467\n",
      "Epoch 13/700\n",
      "1440/1440 [==============================] - 325s 226ms/step - loss: 15.1914 - accuracy: 0.5985 - val_loss: 2.6911 - val_accuracy: 0.6129\n",
      "Epoch 14/700\n",
      "1440/1440 [==============================] - 201s 139ms/step - loss: 8.1353 - accuracy: 0.6042 - val_loss: 9.9144 - val_accuracy: 0.6019\n",
      "Epoch 15/700\n",
      "1440/1440 [==============================] - 213s 148ms/step - loss: 6.3024 - accuracy: 0.6051 - val_loss: 75.3124 - val_accuracy: 0.5543\n",
      "Epoch 16/700\n",
      "1440/1440 [==============================] - 211s 146ms/step - loss: 9.2285 - accuracy: 0.6022 - val_loss: 53.8558 - val_accuracy: 0.5625\n",
      "Epoch 17/700\n",
      "1440/1440 [==============================] - 207s 143ms/step - loss: 9.9257 - accuracy: 0.6025 - val_loss: 2.2638 - val_accuracy: 0.6104\n",
      "Epoch 18/700\n",
      "1440/1440 [==============================] - 203s 141ms/step - loss: 4.9104 - accuracy: 0.6088 - val_loss: 7.0335 - val_accuracy: 0.5905\n",
      "Epoch 19/700\n",
      "1440/1440 [==============================] - 204s 142ms/step - loss: 7.5041 - accuracy: 0.6035 - val_loss: 2.9058 - val_accuracy: 0.6151\n",
      "Epoch 20/700\n",
      "1440/1440 [==============================] - 248s 172ms/step - loss: 9.0934 - accuracy: 0.6043 - val_loss: 3.0207 - val_accuracy: 0.6168\n",
      "Epoch 21/700\n",
      "1440/1440 [==============================] - 269s 187ms/step - loss: 3.0493 - accuracy: 0.6112 - val_loss: 2.4321 - val_accuracy: 0.6010\n",
      "Epoch 22/700\n",
      "1440/1440 [==============================] - 275s 191ms/step - loss: 4.6420 - accuracy: 0.6086 - val_loss: 2.7966 - val_accuracy: 0.6012\n",
      "Epoch 23/700\n",
      "1440/1440 [==============================] - 279s 194ms/step - loss: 3.1762 - accuracy: 0.6113 - val_loss: 1.0182 - val_accuracy: 0.6191\n",
      "Epoch 24/700\n",
      "1440/1440 [==============================] - 280s 195ms/step - loss: 1.8580 - accuracy: 0.6120 - val_loss: 4.9276 - val_accuracy: 0.6150\n",
      "Epoch 25/700\n",
      "1440/1440 [==============================] - 273s 190ms/step - loss: 2.8968 - accuracy: 0.6103 - val_loss: 2.0584 - val_accuracy: 0.6112\n",
      "Epoch 26/700\n",
      "1440/1440 [==============================] - 273s 190ms/step - loss: 2.2423 - accuracy: 0.6127 - val_loss: 25.4471 - val_accuracy: 0.5770\n",
      "Epoch 27/700\n",
      "1440/1440 [==============================] - 274s 190ms/step - loss: 3.5704 - accuracy: 0.6098 - val_loss: 2.3871 - val_accuracy: 0.6097\n",
      "Epoch 28/700\n",
      "1440/1440 [==============================] - 266s 185ms/step - loss: 3.4620 - accuracy: 0.6114 - val_loss: 1.9777 - val_accuracy: 0.6099\n",
      "Epoch 29/700\n",
      "1440/1440 [==============================] - 287s 199ms/step - loss: 2.9255 - accuracy: 0.6133 - val_loss: 1.7132 - val_accuracy: 0.6121\n",
      "Epoch 30/700\n",
      "1440/1440 [==============================] - 281s 195ms/step - loss: 3.3298 - accuracy: 0.6153 - val_loss: 0.8374 - val_accuracy: 0.6160\n",
      "Epoch 31/700\n",
      "1440/1440 [==============================] - 274s 190ms/step - loss: 1.0780 - accuracy: 0.6191 - val_loss: 0.8570 - val_accuracy: 0.6183\n",
      "Epoch 32/700\n",
      "1440/1440 [==============================] - 282s 196ms/step - loss: 1.1026 - accuracy: 0.6204 - val_loss: 0.6824 - val_accuracy: 0.6194\n",
      "Epoch 33/700\n",
      "1440/1440 [==============================] - 339s 236ms/step - loss: 0.7064 - accuracy: 0.6201 - val_loss: 0.6557 - val_accuracy: 0.6183\n",
      "Epoch 34/700\n",
      "1440/1440 [==============================] - 203s 141ms/step - loss: 0.6539 - accuracy: 0.6180 - val_loss: 0.6531 - val_accuracy: 0.6190\n",
      "Epoch 35/700\n",
      "1440/1440 [==============================] - 203s 141ms/step - loss: 0.6509 - accuracy: 0.6194 - val_loss: 0.6517 - val_accuracy: 0.6188\n",
      "Epoch 36/700\n",
      "1440/1440 [==============================] - 211s 146ms/step - loss: 0.6484 - accuracy: 0.6195 - val_loss: 0.6550 - val_accuracy: 0.6214\n",
      "Epoch 37/700\n",
      "1440/1440 [==============================] - 204s 142ms/step - loss: 0.6480 - accuracy: 0.6226 - val_loss: 0.6496 - val_accuracy: 0.6190\n",
      "Epoch 38/700\n",
      "1440/1440 [==============================] - 209s 145ms/step - loss: 0.6498 - accuracy: 0.6217 - val_loss: 0.6505 - val_accuracy: 0.6194\n",
      "Epoch 39/700\n",
      "1440/1440 [==============================] - 203s 141ms/step - loss: 0.6488 - accuracy: 0.6229 - val_loss: 0.6544 - val_accuracy: 0.6191\n",
      "Epoch 40/700\n",
      "1440/1440 [==============================] - 248s 172ms/step - loss: 0.6509 - accuracy: 0.6211 - val_loss: 0.6528 - val_accuracy: 0.6198\n",
      "Epoch 41/700\n",
      "1440/1440 [==============================] - 273s 189ms/step - loss: 0.6483 - accuracy: 0.6232 - val_loss: 0.6534 - val_accuracy: 0.6193\n",
      "Epoch 42/700\n",
      "1440/1440 [==============================] - 275s 191ms/step - loss: 0.6482 - accuracy: 0.6229 - val_loss: 0.6495 - val_accuracy: 0.6192\n",
      "Epoch 43/700\n",
      "1440/1440 [==============================] - 275s 191ms/step - loss: 0.6459 - accuracy: 0.6212 - val_loss: 0.6513 - val_accuracy: 0.6202\n",
      "Epoch 44/700\n",
      "1440/1440 [==============================] - 280s 195ms/step - loss: 0.6459 - accuracy: 0.6230 - val_loss: 0.6465 - val_accuracy: 0.6206\n",
      "Epoch 45/700\n",
      "1440/1440 [==============================] - 273s 190ms/step - loss: 0.6437 - accuracy: 0.6222 - val_loss: 0.6496 - val_accuracy: 0.6210\n",
      "Epoch 46/700\n",
      "1440/1440 [==============================] - 279s 194ms/step - loss: 0.6452 - accuracy: 0.6240 - val_loss: 0.6475 - val_accuracy: 0.6207\n",
      "Epoch 47/700\n",
      "1440/1440 [==============================] - 277s 193ms/step - loss: 0.6427 - accuracy: 0.6254 - val_loss: 0.6485 - val_accuracy: 0.6201\n",
      "Epoch 48/700\n",
      "1440/1440 [==============================] - 271s 188ms/step - loss: 0.6428 - accuracy: 0.6231 - val_loss: 0.6482 - val_accuracy: 0.6209\n",
      "Epoch 49/700\n",
      "1440/1440 [==============================] - 276s 192ms/step - loss: 0.6424 - accuracy: 0.6247 - val_loss: 0.6457 - val_accuracy: 0.6204\n",
      "Epoch 50/700\n",
      "1440/1440 [==============================] - 273s 190ms/step - loss: 0.6405 - accuracy: 0.6243 - val_loss: 0.6465 - val_accuracy: 0.6213\n",
      "Epoch 51/700\n",
      "1440/1440 [==============================] - 283s 196ms/step - loss: 0.6419 - accuracy: 0.6248 - val_loss: 0.6459 - val_accuracy: 0.6208\n",
      "Epoch 52/700\n",
      "1440/1440 [==============================] - 283s 196ms/step - loss: 0.6398 - accuracy: 0.6244 - val_loss: 0.6476 - val_accuracy: 0.6202\n",
      "Epoch 53/700\n",
      "1440/1440 [==============================] - 348s 242ms/step - loss: 0.6402 - accuracy: 0.6259 - val_loss: 0.6446 - val_accuracy: 0.6206\n",
      "Epoch 54/700\n",
      "1440/1440 [==============================] - 200s 139ms/step - loss: 0.6386 - accuracy: 0.6255 - val_loss: 0.6470 - val_accuracy: 0.6203\n",
      "Epoch 55/700\n",
      "1440/1440 [==============================] - 202s 140ms/step - loss: 0.6385 - accuracy: 0.6257 - val_loss: 0.6441 - val_accuracy: 0.6211\n",
      "Epoch 56/700\n",
      "1440/1440 [==============================] - 202s 140ms/step - loss: 0.6377 - accuracy: 0.6248 - val_loss: 0.6431 - val_accuracy: 0.6211\n",
      "Epoch 57/700\n",
      "1440/1440 [==============================] - 196s 136ms/step - loss: 0.6358 - accuracy: 0.6269 - val_loss: 0.6455 - val_accuracy: 0.6207\n",
      "Epoch 58/700\n",
      "1440/1440 [==============================] - 212s 147ms/step - loss: 0.6397 - accuracy: 0.6257 - val_loss: 0.6454 - val_accuracy: 0.6205\n",
      "Epoch 59/700\n",
      "1440/1440 [==============================] - 199s 138ms/step - loss: 0.6362 - accuracy: 0.6247 - val_loss: 0.6451 - val_accuracy: 0.6208\n",
      "Epoch 60/700\n",
      "1440/1440 [==============================] - 245s 170ms/step - loss: 0.6358 - accuracy: 0.6252 - val_loss: 0.6429 - val_accuracy: 0.6207\n",
      "Epoch 61/700\n",
      "1440/1440 [==============================] - 272s 189ms/step - loss: 0.6376 - accuracy: 0.6262 - val_loss: 0.6454 - val_accuracy: 0.6205\n",
      "Epoch 62/700\n",
      "1440/1440 [==============================] - 268s 186ms/step - loss: 0.6349 - accuracy: 0.6272 - val_loss: 0.6421 - val_accuracy: 0.6211\n",
      "Epoch 63/700\n",
      "1440/1440 [==============================] - 256s 178ms/step - loss: 0.6343 - accuracy: 0.6274 - val_loss: 0.6448 - val_accuracy: 0.6210\n",
      "Epoch 64/700\n",
      "1440/1440 [==============================] - 275s 191ms/step - loss: 0.6349 - accuracy: 0.6274 - val_loss: 0.6439 - val_accuracy: 0.6207\n",
      "Epoch 65/700\n",
      "1440/1440 [==============================] - 276s 192ms/step - loss: 0.6320 - accuracy: 0.6275 - val_loss: 0.6445 - val_accuracy: 0.6214\n",
      "Epoch 66/700\n",
      "1440/1440 [==============================] - 286s 199ms/step - loss: 0.6343 - accuracy: 0.6278 - val_loss: 0.6485 - val_accuracy: 0.6211\n",
      "Epoch 67/700\n",
      "1440/1440 [==============================] - 265s 184ms/step - loss: 0.6362 - accuracy: 0.6269 - val_loss: 0.6422 - val_accuracy: 0.6207\n",
      "Epoch 68/700\n",
      "1440/1440 [==============================] - 279s 194ms/step - loss: 0.6326 - accuracy: 0.6287 - val_loss: 0.6441 - val_accuracy: 0.6218\n",
      "Epoch 69/700\n",
      "1440/1440 [==============================] - 287s 199ms/step - loss: 0.6321 - accuracy: 0.6283 - val_loss: 0.6461 - val_accuracy: 0.6196\n",
      "Epoch 70/700\n",
      "1440/1440 [==============================] - 278s 193ms/step - loss: 0.6315 - accuracy: 0.6253 - val_loss: 0.6433 - val_accuracy: 0.6209\n",
      "Epoch 71/700\n",
      "1440/1440 [==============================] - 273s 190ms/step - loss: 0.6321 - accuracy: 0.6291 - val_loss: 0.6449 - val_accuracy: 0.6208\n",
      "Epoch 72/700\n",
      "1440/1440 [==============================] - 266s 185ms/step - loss: 0.6350 - accuracy: 0.6277 - val_loss: 0.6424 - val_accuracy: 0.6214\n",
      "Epoch 73/700\n",
      "1440/1440 [==============================] - 353s 245ms/step - loss: 0.6321 - accuracy: 0.6276 - val_loss: 0.6471 - val_accuracy: 0.6221\n",
      "Epoch 74/700\n",
      "1440/1440 [==============================] - 244s 169ms/step - loss: 0.6362 - accuracy: 0.6301 - val_loss: 0.6489 - val_accuracy: 0.6211\n",
      "Epoch 75/700\n",
      "1440/1440 [==============================] - 209s 145ms/step - loss: 0.6357 - accuracy: 0.6302 - val_loss: 0.6454 - val_accuracy: 0.6222\n",
      "Epoch 76/700\n",
      "1440/1440 [==============================] - 212s 147ms/step - loss: 0.6307 - accuracy: 0.6318 - val_loss: 0.6450 - val_accuracy: 0.6215\n",
      "Epoch 77/700\n",
      "1440/1440 [==============================] - 207s 144ms/step - loss: 0.6307 - accuracy: 0.6299 - val_loss: 0.6451 - val_accuracy: 0.6222\n",
      "Epoch 78/700\n",
      "1440/1440 [==============================] - 204s 141ms/step - loss: 0.6302 - accuracy: 0.6301 - val_loss: 0.6433 - val_accuracy: 0.6222\n",
      "Epoch 79/700\n",
      "1440/1440 [==============================] - 210s 146ms/step - loss: 0.6275 - accuracy: 0.6313 - val_loss: 0.6415 - val_accuracy: 0.6223\n",
      "Epoch 80/700\n",
      "1440/1440 [==============================] - 228s 158ms/step - loss: 0.6291 - accuracy: 0.6312 - val_loss: 0.6442 - val_accuracy: 0.6219\n",
      "Epoch 81/700\n",
      "1440/1440 [==============================] - 268s 186ms/step - loss: 0.6345 - accuracy: 0.6299 - val_loss: 0.6445 - val_accuracy: 0.6220\n",
      "Epoch 82/700\n",
      "1440/1440 [==============================] - 272s 189ms/step - loss: 0.6306 - accuracy: 0.6307 - val_loss: 0.6421 - val_accuracy: 0.6224\n",
      "Epoch 83/700\n",
      "1440/1440 [==============================] - 269s 187ms/step - loss: 0.6295 - accuracy: 0.6301 - val_loss: 0.6425 - val_accuracy: 0.6226\n",
      "Epoch 84/700\n",
      "1440/1440 [==============================] - 274s 191ms/step - loss: 0.6272 - accuracy: 0.6312 - val_loss: 0.6461 - val_accuracy: 0.6213\n",
      "Epoch 85/700\n",
      "1440/1440 [==============================] - 273s 190ms/step - loss: 0.6276 - accuracy: 0.6311 - val_loss: 0.6436 - val_accuracy: 0.6224\n",
      "Epoch 86/700\n",
      "1440/1440 [==============================] - 279s 194ms/step - loss: 0.6294 - accuracy: 0.6327 - val_loss: 0.6498 - val_accuracy: 0.6233\n",
      "Epoch 87/700\n",
      "1440/1440 [==============================] - 268s 186ms/step - loss: 0.6280 - accuracy: 0.6328 - val_loss: 0.6442 - val_accuracy: 0.6250\n",
      "Epoch 88/700\n",
      "1440/1440 [==============================] - 283s 197ms/step - loss: 0.6276 - accuracy: 0.6318 - val_loss: 0.6456 - val_accuracy: 0.6215\n",
      "Epoch 89/700\n",
      "1440/1440 [==============================] - 280s 195ms/step - loss: 0.6258 - accuracy: 0.6325 - val_loss: 0.6443 - val_accuracy: 0.6225\n",
      "Epoch 90/700\n",
      "1440/1440 [==============================] - 282s 196ms/step - loss: 0.6303 - accuracy: 0.6316 - val_loss: 0.6463 - val_accuracy: 0.6221\n",
      "Epoch 91/700\n",
      "1440/1440 [==============================] - 262s 182ms/step - loss: 0.6249 - accuracy: 0.6326 - val_loss: 1.0193 - val_accuracy: 0.6224\n",
      "Epoch 92/700\n",
      "1440/1440 [==============================] - 268s 186ms/step - loss: 0.6304 - accuracy: 0.6328 - val_loss: 0.6450 - val_accuracy: 0.6219\n",
      "Epoch 93/700\n",
      "1440/1440 [==============================] - 345s 240ms/step - loss: 0.6271 - accuracy: 0.6314 - val_loss: 0.6489 - val_accuracy: 0.6216\n",
      "Epoch 94/700\n",
      "1440/1440 [==============================] - 249s 173ms/step - loss: 0.6259 - accuracy: 0.6332 - val_loss: 0.6497 - val_accuracy: 0.6223\n",
      "Epoch 95/700\n",
      "1440/1440 [==============================] - 202s 140ms/step - loss: 0.6267 - accuracy: 0.6339 - val_loss: 0.6461 - val_accuracy: 0.6231\n",
      "Epoch 96/700\n",
      "1440/1440 [==============================] - 212s 147ms/step - loss: 0.6263 - accuracy: 0.6334 - val_loss: 0.6479 - val_accuracy: 0.6224\n",
      "Epoch 97/700\n",
      "1440/1440 [==============================] - 209s 145ms/step - loss: 0.6262 - accuracy: 0.6335 - val_loss: 0.6459 - val_accuracy: 0.6236\n",
      "Epoch 98/700\n",
      "1440/1440 [==============================] - 206s 143ms/step - loss: 0.6306 - accuracy: 0.6338 - val_loss: 0.6451 - val_accuracy: 0.6233\n",
      "Epoch 99/700\n",
      "1440/1440 [==============================] - 198s 137ms/step - loss: 0.6256 - accuracy: 0.6328 - val_loss: 0.6487 - val_accuracy: 0.6212\n"
     ]
    }
   ],
   "source": [
    "history = model.fit(x=trnx, y=trny, validation_data = (valx, valy), batch_size = batch_size, epochs = training_epochs,callbacks=[early_stopping, TensorB])\n",
    "\n",
    "# # Convert the model\n",
    "# converter = tf.lite.TFLiteConverter.from_keras_model(model)\n",
    "# tflite_model = converter.convert()\n",
    "\n",
    "# # Save the model\n",
    "# with open('cnn_model.tflite', 'wb') as f:\n",
    "#     f.write(tflite_model)"
   ]
  },
  {
   "cell_type": "code",
   "execution_count": 17,
   "metadata": {},
   "outputs": [
    {
     "data": {
      "image/png": "[encoded data removed]",
      "text/plain": [
       "<Figure size 432x288 with 1 Axes>"
      ]
     },
     "metadata": {
      "needs_background": "light"
     },
     "output_type": "display_data"
    },
    {
     "data": {
      "image/png": "[encoded data removed]",
      "text/plain": [
       "<Figure size 432x288 with 1 Axes>"
      ]
     },
     "metadata": {
      "needs_background": "light"
     },
     "output_type": "display_data"
    },
    {
     "name": "stdout",
     "output_type": "stream",
     "text": [
      "0.6212378144264221\n",
      "0.6249511241912842\n"
     ]
    }
   ],
   "source": [
    "# summerize history for accuracy\n",
    "plt.plot(history.history['accuracy'])\n",
    "plt.plot(history.history['val_accuracy'])\n",
    "plt.title('model accuracy')\n",
    "plt.ylabel('accuracy')\n",
    "plt.xlabel('epoch')\n",
    "# plt.legend(['train'], loc='upper left')\n",
    "plt.legend(['train','valid'], loc='upper left')\n",
    "plt.show()\n",
    "\n",
    "# summerize history for loss\n",
    "plt.plot(history.history['loss'])\n",
    "plt.plot(history.history['val_loss'])\n",
    "plt.title('model loss')\n",
    "plt.ylabel('loss')\n",
    "plt.xlabel('epoch')\n",
    "# plt.legend(['train'], loc='upper left')\n",
    "plt.legend(['train','valid'], loc='upper left')\n",
    "plt.show()\n",
    "\n",
    "#  test data 마지막 정확도\n",
    "print(history.history['val_accuracy'][-1])\n",
    " # test data 가장 높은 정확도\n",
    "print(np.max(history.history['val_accuracy']))"
   ]
  },
  {
   "cell_type": "code",
   "execution_count": 18,
   "metadata": {},
   "outputs": [
    {
     "name": "stdout",
     "output_type": "stream",
     "text": [
      "실제 : 0, 예측 : 0 -  65903\n",
      "실제 : 1, 예측 : 0 -  40886\n",
      "실제 : 1, 예측 : 1 -  5393\n",
      "실제 : 0, 예측 : 1 -  2943\n",
      "총 개수 :  115125\n",
      "accuracy :  0.6192920738327904\n"
     ]
    }
   ],
   "source": [
    "#sigmoid\n",
    "y_pred = model.predict(tstx, batch_size=batch_size)\n",
    "a = 0\n",
    "b = 0\n",
    "c = 0\n",
    "d = 0\n",
    "for i in range(len(y_pred)) :\n",
    "    if y_pred[i] < 0.5 : # event03 발생 X 추측\n",
    "        if tsty[i] == 0 :\n",
    "            a = a + 1\n",
    "        else :\n",
    "            b=b + 1\n",
    "    else : # event03 발생 O 추측\n",
    "        if tsty[i] == 1 : \n",
    "            c=c + 1\n",
    "        else :\n",
    "            d= d+ 1\n",
    "print(\"실제 : 0, 예측 : 0 - \", a)\n",
    "print(\"실제 : 1, 예측 : 0 - \", b)\n",
    "print(\"실제 : 1, 예측 : 1 - \", c)\n",
    "print(\"실제 : 0, 예측 : 1 - \", d)\n",
    "print(\"총 개수 : \", len(y_pred))\n",
    "print(\"accuracy : \", (a+c)/(len(y_pred)))\n",
    "\n",
    "#categorical\n",
    "# a = 0\n",
    "# b = 0\n",
    "# c = 0\n",
    "# d = 0\n",
    "# for i in range(len(y_pred[:,0])) :\n",
    "#     if y_pred[i,0] > y_pred[i,1] : # event03 발생 X\n",
    "#         if tsty[i,1] == 0 :\n",
    "#             a = a + 1\n",
    "#         else :\n",
    "#             b = b + 1\n",
    "#     else :\n",
    "#         if tsty[i,1] == 1 : # event03 발생 \n",
    "#             c = c + 1\n",
    "#         else :\n",
    "#             d = d+ 1\n",
    "# print(\"실제 : 0, 예측 : 0 -> \", a)\n",
    "# print(\"실제 : 1, 예측 : 0 -> \", b)\n",
    "# print(\"실제 : 1, 예측 : 1 -> \", c)\n",
    "# print(\"실제 : 0, 예측 : 1 -> \", d)\n",
    "# print(\"전체데이터 개수 : \", len(y_pred[:,0]))"
   ]
  }
 ],
 "metadata": {
  "kernelspec": {
   "display_name": "Python 3",
   "language": "python",
   "name": "python3"
  },
  "language_info": {
   "codemirror_mode": {
    "name": "ipython",
    "version": 3
   },
   "file_extension": ".py",
   "mimetype": "text/x-python",
   "name": "python",
   "nbconvert_exporter": "python",
   "pygments_lexer": "ipython3",
   "version": "3.8.5"
  },
  "toc": {
   "base_numbering": 1,
   "nav_menu": {},
   "number_sections": true,
   "sideBar": true,
   "skip_h1_title": false,
   "title_cell": "Table of Contents",
   "title_sidebar": "Contents",
   "toc_cell": false,
   "toc_position": {},
   "toc_section_display": true,
   "toc_window_display": false
  }
 },
 "nbformat": 4,
 "nbformat_minor": 4
}
