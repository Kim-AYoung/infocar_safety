{
 "cells": [
  {
   "cell_type": "markdown",
   "metadata": {},
   "source": [
    "## 초당 주행기록 가져오기\n",
    "    1. Event_start - 6sec <= srcrec < Event_start : event가 일어나기 직전의 주행기록\n",
    "    2. Event가 일어난 시간과 Event 6초전 시간을 제외한 나머지 시간의 srcrec "
   ]
  },
  {
   "cell_type": "code",
   "execution_count": 1,
   "metadata": {
    "scrolled": false
   },
   "outputs": [],
   "source": [
    "import numpy as np\n",
    "# threshold : 1개의 배열당 총 element 개수, linewidth : 1줄당 문자 수\n",
    "np.set_printoptions(threshold=np.inf, linewidth=np.inf) \n",
    "\n",
    "import pandas as pd\n",
    "pd.set_option('display.max_row', 70000000)\n",
    "pd.set_option('display.max_column', 10000)\n",
    "import matplotlib.pyplot as plt\n",
    "%matplotlib inline\n",
    "\n",
    "from os.path import join\n",
    "\n",
    "import tensorflow as tf\n",
    "# tf 2.0부터 keras는 tensorflow의 공식 API\n",
    "from tensorflow.keras import layers, models, optimizers\n",
    "from tensorflow.keras.utils import to_categorical\n",
    "\n",
    "import sqlite3\n",
    "\n",
    "import glob\n",
    "import os\n",
    "import datetime\n",
    "# Log Data가 저장될 디렉터리 경로 만들기\n",
    "dir_name = \"Learning_log\"\n",
    "\n",
    "def make_Tensorboard_dir(dir_name):\n",
    "    root_logdir = os.path.join(os.curdir, dir_name)\n",
    "    sub_dir_name = datetime.datetime.now().strftime(\"%Y%m%d-%H%M%S\")\n",
    "    return os.path.join(root_logdir, sub_dir_name)\n",
    "\n",
    "import csv\n",
    "\n",
    "from sklearn.preprocessing import MinMaxScaler\n",
    "from tensorflow.keras.callbacks import EarlyStopping"
   ]
  },
  {
   "cell_type": "code",
   "execution_count": 2,
   "metadata": {},
   "outputs": [],
   "source": [
    "gpus = tf.config.experimental.list_physical_devices('GPU')\n",
    "if gpus:\n",
    "    try:\n",
    "        # Currently, memory growth needs to be the same across GPUs\n",
    "        for gpu in gpus:\n",
    "            tf.config.experimental.set_memory_growth(gpu, True)\n",
    "            logical_gpus = tf.config.experimental.list_logical_devices('GPU')\n",
    "            print(len(gpus), \"Physical GPUs,\", len(logical_gpus), \"Logical GPUs\")\n",
    "    except RuntimeError as e:\n",
    "        # Memory growth must be set before GPUs have been initialized\n",
    "        print(e)"
   ]
  },
  {
   "cell_type": "code",
   "execution_count": 3,
   "metadata": {},
   "outputs": [],
   "source": [
    "path = \"sec/*\" #-------------------------자신의 db파일이 있는 폴더로 수정---------------------------\n",
    "file_list =  glob.glob(path)\n",
    "file_list_db = [file for file in file_list if file.endswith(\".db\")]\n",
    "\n",
    "# Event가 일어났을 당시의 초당 주행기록 가져오기\n",
    "srcrec_df2 = pd.DataFrame() #연결한 db 결과 저장소\n",
    "for i in range (0,len(file_list_db)):\n",
    "    f = open('event.csv') #-------------------------자신의 event파일이 있는 폴더로 수정---------------------------\n",
    "    csvReader = csv.reader(f) \n",
    "    # db연결\n",
    "    conn = sqlite3.connect(file_list_db[i])\n",
    "    c = conn. cursor()\n",
    "    # event 테이블 유무 확인 후, 있으면 제거\n",
    "    c.execute('Drop Table If Exists event')\n",
    "    # 자신의 주행기록에서 발생한 event 테이블 생성\n",
    "    c.execute(\"create table event(CAR_RECDRV_KEY integer, EVENT_CODE text, EVENT_STDT text, EVENT_ENDT text)\")\n",
    "    # csv 파일에서 자신의 주행기록에서 발생한 event만 추출해 insert\n",
    "    for row in csvReader:\n",
    "        if row[7] == \"EVENT_CODE\":\n",
    "            continue\n",
    "        sql1 = \"insert into event (CAR_RECDRV_KEY, EVENT_CODE, EVENT_STDT, EVENT_ENDT) values (?,?,?,?)\"\n",
    "        key= int(row[1])\n",
    "        # key를 추출해서 자신의 주행기록이 아니면 pass\n",
    "        if key != int(file_list_db[i][4:11]): # src에 자신의 db파일이 있어야함, 경로가 다르면 인덱스 수정할 것\n",
    "            continue\n",
    "        code = (row[7])\n",
    "        # event03 추출\n",
    "        if code[-11:] != \"EventCode03\" and code[-11:] != \"EventCode02\" and code[-11:] != \"EventCode10\":\n",
    "            continue\n",
    "        stdt = (row[8])\n",
    "        endt = (row[9])\n",
    "        c.execute(sql1,(key,code,stdt,endt))\n",
    "    # 트랜잭션 저장\n",
    "    conn.commit()\n",
    "    \n",
    "    # event가 일어나기 전의 주행기록을 가져오는 query 실행\n",
    "    sql2 = 'SELECT SRCREC.srcValue, SRCREC.realTime, SRCREC.srcSpeed, SRCREC.srcRPM,\\\n",
    "    SRCREC.srcAPS, SRCREC.srcTPS, SRCREC.srcEngineLoad, SRCREC.srcIntakePress, SRCREC.srcIntakeAirTemp, ifnull(EVENT_CODE, \"0\") AS EVENT_CODE FROM SRCREC LEFT OUTER JOIN\\\n",
    "    (SELECT EVENT_CODE, EVENT_STDT s, EVENT_ENDT e FROM event\\\n",
    "    ) ON SRCREC.realTime BETWEEN strftime(\"%Y%m%d%H%M%S\",s,\"-6 seconds\")\\\n",
    "     AND strftime(\"%Y%m%d%H%M%S\",e)\\\n",
    "    EXCEPT \\\n",
    "    SELECT SRCREC.srcValue, SRCREC.realTime, SRCREC.srcSpeed, SRCREC.srcRPM,\\\n",
    "    SRCREC.srcAPS, SRCREC.srcTPS, SRCREC.srcEngineLoad, SRCREC.srcIntakePress, SRCREC.srcIntakeAirTemp, EVENT_CODE FROM SRCREC LEFT JOIN\\\n",
    "    (SELECT EVENT_CODE, EVENT_STDT s, EVENT_ENDT e FROM event\\\n",
    "    ) ON SRCREC.realTime BETWEEN strftime(\"%Y%m%d%H%M%S\",s)\\\n",
    "     AND strftime(\"%Y%m%d%H%M%S\",e)'\n",
    "    query =  c.execute(sql2)\n",
    "    cols = [column[0] for column in query.description]\n",
    "    srcrec_df = pd.DataFrame.from_records(data=query.fetchall(), columns=cols)\n",
    "    #db 파일 연결 작업\n",
    "    srcrec_df2 = pd.concat([srcrec_df2, srcrec_df], ignore_index=True)\n",
    "    #db 연결 종료\n",
    "    c.close()\n",
    "    conn.close()\n",
    "    #파일 연결 종료\n",
    "    f.close()\n",
    "srcrec_df = srcrec_df2\n",
    "# srcrec_df"
   ]
  },
  {
   "cell_type": "markdown",
   "metadata": {},
   "source": [
    "## event가 일어난 데이터와 그 밖의 데이터 비율 1:1로 맞추기"
   ]
  },
  {
   "cell_type": "code",
   "execution_count": 4,
   "metadata": {},
   "outputs": [
    {
     "name": "stderr",
     "output_type": "stream",
     "text": [
      "C:\\Users\\onion\\anaconda3\\envs\\py3.8.5_tf2.4.1\\lib\\site-packages\\pandas\\core\\indexing.py:1817: SettingWithCopyWarning: \n",
      "A value is trying to be set on a copy of a slice from a DataFrame.\n",
      "Try using .loc[row_indexer,col_indexer] = value instead\n",
      "\n",
      "See the caveats in the documentation: https://pandas.pydata.org/pandas-docs/stable/user_guide/indexing.html#returning-a-view-versus-a-copy\n",
      "  self._setitem_single_column(loc, value, pi)\n"
     ]
    }
   ],
   "source": [
    "# event 데이터 가져오기\n",
    "srcevent_df = srcrec_df[srcrec_df['EVENT_CODE'].str.contains('EventCode')]\n",
    "\n",
    "srcevent_df.loc[srcrec_df['EVENT_CODE'].str.contains('EventCode'),'EVENT_CODE'] ='EventCode'\n",
    "\n",
    "# event 데이터 수만큼 비율 맞춰서 sampling\n",
    "len_srcevent = len(srcevent_df.index)\n",
    "srcnor_df = srcrec_df[srcrec_df['EVENT_CODE']=='0'].sample(len_srcevent*2)\n",
    "len_srcnor = len(srcnor_df.index)\n",
    "\n",
    "# event가 일어난 데이터와 그 밖의 데이터 합치기\n",
    "srcrec_df = pd.concat([srcevent_df,srcnor_df])\n",
    "# 더 정확한 예측을 위해 주행기록을 시간순으로 정렬\n",
    "srcrec_df= srcrec_df.sort_values(by=['realTime'], axis=0,ascending=True)\n"
   ]
  },
  {
   "cell_type": "markdown",
   "metadata": {},
   "source": [
    "## 주행기록을 x data와 y data로 나누기\n",
    "* x data : 차량주행데이터\n",
    "* y data : 이벤트 종류(event_start-6sec < srcrec < event_start = 1 or event가 일어난 시간과 6초전시간을 제외한 나머지 시간 = 0)"
   ]
  },
  {
   "cell_type": "code",
   "execution_count": 5,
   "metadata": {},
   "outputs": [],
   "source": [
    "x_data = srcrec_df.apply(pd.to_numeric, errors='coerce')\n",
    "x_data = x_data.iloc[:,2:9] # srcSpeed ~ srcIntakeAirTemp\n",
    "x_data = x_data.values"
   ]
  },
  {
   "cell_type": "code",
   "execution_count": 6,
   "metadata": {},
   "outputs": [],
   "source": [
    "# 1번째 열 : event 발생 X, 2번째 열 : event 발생 \n",
    "y_data = srcrec_df.values[:,9] # EVENT_CODE\n",
    "y_data = pd.get_dummies(y_data).values\n",
    "y_data = y_data[:,0] \n",
    "\n",
    "# %EventCode = 1, 0 = 0 으로 바꿔줌\n",
    "where_0 = np.where(y_data ==0)\n",
    "where_1 = np.where(y_data ==1)\n",
    "\n",
    "y_data[where_0] = 1\n",
    "y_data[where_1] = 0\n",
    "\n",
    "# one hot encoding for softmax\n",
    "#y_data = to_categorical(y_data)"
   ]
  },
  {
   "cell_type": "markdown",
   "metadata": {},
   "source": [
    "## train data와 test data로 분리 ( 7 : 3 )"
   ]
  },
  {
   "cell_type": "code",
   "execution_count": 8,
   "metadata": {},
   "outputs": [],
   "source": [
    "from sklearn.model_selection import train_test_split\n",
    "trnx, tstx, trny, tsty = train_test_split(x_data, y_data, test_size=0.2, random_state=111)\n",
    "trnx, valx, trny, valy = train_test_split(trnx, trny, test_size=0.2, random_state=111)"
   ]
  },
  {
   "cell_type": "markdown",
   "metadata": {},
   "source": [
    "## x data 정규화\n",
    "* train data : fit + transform\n",
    "* test data : only transform"
   ]
  },
  {
   "cell_type": "code",
   "execution_count": 9,
   "metadata": {},
   "outputs": [],
   "source": [
    "from sklearn.preprocessing import StandardScaler\n",
    "scaler = StandardScaler()\n",
    "trnx = scaler.fit_transform(trnx)\n",
    "tstx = scaler.transform(tstx)"
   ]
  },
  {
   "cell_type": "markdown",
   "metadata": {},
   "source": [
    "## DNN 모델 구축"
   ]
  },
  {
   "cell_type": "code",
   "execution_count": 12,
   "metadata": {},
   "outputs": [
    {
     "name": "stdout",
     "output_type": "stream",
     "text": [
      "Model: \"functional_1\"\n",
      "_________________________________________________________________\n",
      "Layer (type)                 Output Shape              Param #   \n",
      "=================================================================\n",
      "input_1 (InputLayer)         [(None, 7)]               0         \n",
      "_________________________________________________________________\n",
      "dense (Dense)                (None, 20)                160       \n",
      "_________________________________________________________________\n",
      "dense_1 (Dense)              (None, 20)                420       \n",
      "_________________________________________________________________\n",
      "dense_2 (Dense)              (None, 20)                420       \n",
      "_________________________________________________________________\n",
      "dense_3 (Dense)              (None, 20)                420       \n",
      "_________________________________________________________________\n",
      "dense_4 (Dense)              (None, 1)                 21        \n",
      "=================================================================\n",
      "Total params: 1,441\n",
      "Trainable params: 1,441\n",
      "Non-trainable params: 0\n",
      "_________________________________________________________________\n"
     ]
    }
   ],
   "source": [
    "input_shape = (x_data.shape[1], )\n",
    "\n",
    "visible = layers.Input(shape=input_shape)\n",
    "hidden1 = layers.Dense(20, activation='relu')(visible)\n",
    "hidden2 = layers.Dense(20, activation='relu')(hidden1)\n",
    "hidden3 = layers.Dense(20, activation='relu')(hidden2)\n",
    "hidden4 = layers.Dense(20, activation='relu')(hidden3)\n",
    "output = layers.Dense(1, activation='sigmoid')(hidden4) # 2 classification\n",
    "\n",
    "mip_function = models.Model(visible, output)\n",
    "mip_function.summary()"
   ]
  },
  {
   "cell_type": "markdown",
   "metadata": {},
   "source": [
    "## 학습"
   ]
  },
  {
   "cell_type": "code",
   "execution_count": 13,
   "metadata": {},
   "outputs": [],
   "source": [
    "learning_rate = 0.0005\n",
    "batch_size = 256\n",
    "epochs = 2000"
   ]
  },
  {
   "cell_type": "code",
   "execution_count": 14,
   "metadata": {
    "scrolled": true
   },
   "outputs": [
    {
     "name": "stdout",
     "output_type": "stream",
     "text": [
      "Epoch 1/2000\n",
      "   1/1793 [..............................] - ETA: 0s - loss: 0.6934 - accuracy: 0.5781WARNING:tensorflow:From C:\\Users\\onion\\anaconda3\\envs\\py3.8.5_tf2.4.1\\lib\\site-packages\\tensorflow\\python\\ops\\summary_ops_v2.py:1277: stop (from tensorflow.python.eager.profiler) is deprecated and will be removed after 2020-07-01.\n",
      "Instructions for updating:\n",
      "use `tf.profiler.experimental.stop` instead.\n",
      "   2/1793 [..............................] - ETA: 1:14 - loss: 0.6886 - accuracy: 0.5977WARNING:tensorflow:Callbacks method `on_train_batch_end` is slow compared to the batch time (batch time: 0.0083s vs `on_train_batch_end` time: 0.0749s). Check your callbacks.\n",
      "1793/1793 [==============================] - 3s 2ms/step - loss: 0.5632 - accuracy: 0.7060 - val_loss: 22.1830 - val_accuracy: 0.4436\n",
      "Epoch 2/2000\n",
      "1793/1793 [==============================] - 2s 1ms/step - loss: 0.5467 - accuracy: 0.7180 - val_loss: 28.2774 - val_accuracy: 0.6342\n",
      "Epoch 3/2000\n",
      "1793/1793 [==============================] - 2s 1ms/step - loss: 0.5403 - accuracy: 0.7217 - val_loss: 16.6676 - val_accuracy: 0.5673\n",
      "Epoch 4/2000\n",
      "1793/1793 [==============================] - 2s 1ms/step - loss: 0.5370 - accuracy: 0.7240 - val_loss: 48.4017 - val_accuracy: 0.6328\n",
      "Epoch 5/2000\n",
      "1793/1793 [==============================] - 2s 1ms/step - loss: 0.5349 - accuracy: 0.7254 - val_loss: 54.9528 - val_accuracy: 0.6312\n",
      "Epoch 6/2000\n",
      "1793/1793 [==============================] - 2s 1ms/step - loss: 0.5336 - accuracy: 0.7255 - val_loss: 121.7342 - val_accuracy: 0.6305\n",
      "Epoch 7/2000\n",
      "1793/1793 [==============================] - 2s 1ms/step - loss: 0.5324 - accuracy: 0.7263 - val_loss: 93.8238 - val_accuracy: 0.6300\n",
      "Epoch 8/2000\n",
      "1793/1793 [==============================] - 2s 1ms/step - loss: 0.5316 - accuracy: 0.7269 - val_loss: 130.7145 - val_accuracy: 0.6293\n",
      "Epoch 9/2000\n",
      "1793/1793 [==============================] - 2s 1ms/step - loss: 0.5307 - accuracy: 0.7273 - val_loss: 192.3073 - val_accuracy: 0.6298\n",
      "Epoch 10/2000\n",
      "1793/1793 [==============================] - 2s 1ms/step - loss: 0.5302 - accuracy: 0.7275 - val_loss: 200.8650 - val_accuracy: 0.6291\n",
      "Epoch 11/2000\n",
      "1793/1793 [==============================] - 2s 1ms/step - loss: 0.5297 - accuracy: 0.7276 - val_loss: 222.2536 - val_accuracy: 0.6292\n",
      "Epoch 12/2000\n",
      "1793/1793 [==============================] - 2s 1ms/step - loss: 0.5292 - accuracy: 0.7278 - val_loss: 200.5826 - val_accuracy: 0.6291\n",
      "Epoch 13/2000\n",
      "1793/1793 [==============================] - 2s 1ms/step - loss: 0.5287 - accuracy: 0.7281 - val_loss: 174.0908 - val_accuracy: 0.6292\n",
      "Epoch 14/2000\n",
      "1793/1793 [==============================] - 2s 1ms/step - loss: 0.5283 - accuracy: 0.7285 - val_loss: 305.3481 - val_accuracy: 0.6293\n",
      "Epoch 15/2000\n",
      "1793/1793 [==============================] - 2s 1ms/step - loss: 0.5280 - accuracy: 0.7283 - val_loss: 257.7405 - val_accuracy: 0.6292\n",
      "Epoch 16/2000\n",
      "1793/1793 [==============================] - 2s 1ms/step - loss: 0.5276 - accuracy: 0.7287 - val_loss: 257.9904 - val_accuracy: 0.6293\n",
      "Epoch 17/2000\n",
      "1793/1793 [==============================] - 2s 1ms/step - loss: 0.5274 - accuracy: 0.7289 - val_loss: 145.9020 - val_accuracy: 0.6298\n",
      "Epoch 18/2000\n",
      "1793/1793 [==============================] - 2s 1ms/step - loss: 0.5271 - accuracy: 0.7296 - val_loss: 273.9349 - val_accuracy: 0.6293\n",
      "Epoch 19/2000\n",
      "1793/1793 [==============================] - 2s 1ms/step - loss: 0.5269 - accuracy: 0.7294 - val_loss: 325.0081 - val_accuracy: 0.6294\n",
      "Epoch 20/2000\n",
      "1793/1793 [==============================] - 2s 1ms/step - loss: 0.5267 - accuracy: 0.7294 - val_loss: 307.0189 - val_accuracy: 0.6301\n",
      "Epoch 21/2000\n",
      "1793/1793 [==============================] - 2s 1ms/step - loss: 0.5265 - accuracy: 0.7293 - val_loss: 268.4048 - val_accuracy: 0.6292\n",
      "Epoch 22/2000\n",
      "1793/1793 [==============================] - 2s 1ms/step - loss: 0.5263 - accuracy: 0.7298 - val_loss: 169.0678 - val_accuracy: 0.6303\n",
      "Epoch 23/2000\n",
      "1793/1793 [==============================] - 2s 1ms/step - loss: 0.5261 - accuracy: 0.7298 - val_loss: 186.3549 - val_accuracy: 0.6301\n"
     ]
    }
   ],
   "source": [
    "# 2 classification 용\n",
    "mip_function.compile(optimizer=tf.keras.optimizers.RMSprop(lr=learning_rate), loss='binary_crossentropy', metrics=['accuracy'])\n",
    "\n",
    "# 텐서보드에 기록\n",
    "TB_log_dir = make_Tensorboard_dir(dir_name)\n",
    "TensorB = tf.keras.callbacks.TensorBoard(log_dir = TB_log_dir)\n",
    "\n",
    "early_stopping = EarlyStopping(patience=20)\n",
    "\n",
    "history = mip_function.fit(trnx, trny, validation_data = (valx, valy), batch_size = batch_size, epochs = epochs,callbacks=[early_stopping, TensorB])\n",
    "\n",
    "# # Convert the model\n",
    "# converter = tf.lite.TFLiteConverter.from_keras_model(mip_function)\n",
    "# tflite_model = converter.convert()\n",
    "\n",
    "# # Save the model\n",
    "# with open('dnn_model.tflite', 'wb') as f:\n",
    "#     f.write(tflite_model)"
   ]
  },
  {
   "cell_type": "code",
   "execution_count": 15,
   "metadata": {
    "scrolled": false
   },
   "outputs": [
    {
     "data": {
      "image/png": "[encoded data removed]",
      "text/plain": [
       "<Figure size 432x288 with 1 Axes>"
      ]
     },
     "metadata": {
      "needs_background": "light"
     },
     "output_type": "display_data"
    },
    {
     "data": {
      "image/png": "[encoded data removed]",
      "text/plain": [
       "<Figure size 432x288 with 1 Axes>"
      ]
     },
     "metadata": {
      "needs_background": "light"
     },
     "output_type": "display_data"
    },
    {
     "name": "stdout",
     "output_type": "stream",
     "text": [
      "0.6301013827323914\n",
      "0.6342077851295471\n"
     ]
    }
   ],
   "source": [
    "# summerize history for accuracy\n",
    "plt.plot(history.history['accuracy'])\n",
    "plt.plot(history.history['val_accuracy'])\n",
    "plt.title('model accuracy')\n",
    "plt.ylabel('accuracy')\n",
    "plt.xlabel('epoch')\n",
    "# plt.legend(['train'], loc='upper left')\n",
    "plt.legend(['train','valid'], loc='upper left')\n",
    "plt.show()\n",
    "\n",
    "# summerize history for loss\n",
    "plt.plot(history.history['loss'])\n",
    "plt.plot(history.history['val_loss'])\n",
    "plt.title('model loss')\n",
    "plt.ylabel('loss')\n",
    "plt.xlabel('epoch')\n",
    "# plt.legend(['train'], loc='upper left')\n",
    "plt.legend(['train','valid'], loc='upper left')\n",
    "plt.show()\n",
    "\n",
    "#  test data 마지막 정확도\n",
    "print(history.history['val_accuracy'][-1])\n",
    " # test data 가장 높은 정확도\n",
    "print(np.max(history.history['val_accuracy']))"
   ]
  },
  {
   "cell_type": "markdown",
   "metadata": {},
   "source": [
    "## 예측"
   ]
  },
  {
   "cell_type": "code",
   "execution_count": 16,
   "metadata": {},
   "outputs": [
    {
     "name": "stdout",
     "output_type": "stream",
     "text": [
      "실제 : 0, 예측 : 0 ->  80163\n",
      "실제 : 1, 예측 : 0 ->  24094\n",
      "실제 : 0, 예측 : 1 ->  15283\n",
      "실제 : 1, 예측 : 1 ->  23834\n",
      "전체데이터 개수 :  143374\n",
      "정확도 :  0.7253546668154617\n"
     ]
    }
   ],
   "source": [
    "# 학습된 모델인 mip_function에 test 데이터를 입력하면 model이 예측한 event 유무가 나옵니다.\n",
    "# 해당 유무를 실제 event유무와 비교하여 출력합니다.\n",
    "y_pred = mip_function.predict(tstx, batch_size=batch_size)\n",
    "\n",
    "a = 0\n",
    "b = 0\n",
    "c = 0\n",
    "d = 0\n",
    "for i in range(len(y_pred)) :\n",
    "    if y_pred[i][0] < 0.5  : # event 발생 X 예측\n",
    "        if tsty[i] == 0 :\n",
    "            a = a + 1\n",
    "        else :\n",
    "            b = b + 1\n",
    "    else :                  # event발생 O 예측\n",
    "        if tsty[i] == 0 : \n",
    "            c = c + 1\n",
    "        else :\n",
    "            d = d+ 1\n",
    "            \n",
    "print(\"실제 : 0, 예측 : 0 -> \", a)\n",
    "print(\"실제 : 1, 예측 : 0 -> \", b)\n",
    "print(\"실제 : 0, 예측 : 1 -> \", c)\n",
    "print(\"실제 : 1, 예측 : 1 -> \", d)\n",
    "print(\"전체데이터 개수 : \", len(y_pred))\n",
    "print(\"정확도 : \", (a+d)/(a+b+c+d))"
   ]
  }
 ],
 "metadata": {
  "kernelspec": {
   "display_name": "Python 3",
   "language": "python",
   "name": "python3"
  },
  "language_info": {
   "codemirror_mode": {
    "name": "ipython",
    "version": 3
   },
   "file_extension": ".py",
   "mimetype": "text/x-python",
   "name": "python",
   "nbconvert_exporter": "python",
   "pygments_lexer": "ipython3",
   "version": "3.8.5"
  },
  "toc": {
   "base_numbering": 1,
   "nav_menu": {},
   "number_sections": true,
   "sideBar": true,
   "skip_h1_title": false,
   "title_cell": "Table of Contents",
   "title_sidebar": "Contents",
   "toc_cell": false,
   "toc_position": {},
   "toc_section_display": true,
   "toc_window_display": false
  }
 },
 "nbformat": 4,
 "nbformat_minor": 4
}
