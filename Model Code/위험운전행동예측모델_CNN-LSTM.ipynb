{
 "cells": [
  {
   "cell_type": "markdown",
   "metadata": {},
   "source": [
    "### Import"
   ]
  },
  {
   "cell_type": "code",
   "execution_count": 1,
   "metadata": {},
   "outputs": [],
   "source": [
    "import tensorflow as tf\n",
    "# tf 2.0부터 keras는 tensorflow의 공식 API\n",
    "from tensorflow import keras\n",
    "from tensorflow.keras.utils import to_categorical\n",
    "from tensorflow.keras import layers, models, optimizers\n",
    "\n",
    "import numpy as np\n",
    "np.set_printoptions(threshold=np.inf, linewidth=np.inf)\n",
    "import matplotlib.pyplot as plt\n",
    "%matplotlib inline\n",
    "import pandas as pd\n",
    "pd.set_option('display.max_row', 40000)\n",
    "pd.set_option('display.max_column', 10000)\n",
    "\n",
    "import os\n",
    "import datetime\n",
    "# Log Data가 저장될 디렉터리 경로 만들기\n",
    "dir_name = \"Learning_log\"\n",
    "\n",
    "def make_Tensorboard_dir(dir_name):\n",
    "    root_logdir = os.path.join(os.curdir, dir_name)\n",
    "    sub_dir_name = datetime.datetime.now().strftime(\"%Y%m%d-%H%M%S\")\n",
    "    return os.path.join(root_logdir, sub_dir_name)\n",
    "\n",
    "from os.path import join\n",
    "import sqlite3\n",
    "import glob\n",
    "import csv"
   ]
  },
  {
   "cell_type": "code",
   "execution_count": 2,
   "metadata": {},
   "outputs": [
    {
     "name": "stderr",
     "output_type": "stream",
     "text": [
      "2021-12-10 06:42:15.117763: I tensorflow/compiler/jit/xla_cpu_device.cc:41] Not creating XLA devices, tf_xla_enable_xla_devices not set\n"
     ]
    }
   ],
   "source": [
    "gpus = tf.config.experimental.list_physical_devices('GPU')\n",
    "if gpus:\n",
    "    try:\n",
    "        # Currently, memory growth needs to be the same across GPUs\n",
    "        for gpu in gpus:\n",
    "            tf.config.experimental.set_memory_growth(gpu, True)\n",
    "            logical_gpus = tf.config.experimental.list_logical_devices('GPU')\n",
    "            print(len(gpus), \"Physical GPUs,\", len(logical_gpus), \"Logical GPUs\")\n",
    "    except RuntimeError as e:\n",
    "        # Memory growth must be set before GPUs have been initialized\n",
    "        print(e)"
   ]
  },
  {
   "cell_type": "markdown",
   "metadata": {},
   "source": [
    "### Data"
   ]
  },
  {
   "cell_type": "code",
   "execution_count": 3,
   "metadata": {
    "scrolled": true
   },
   "outputs": [
    {
     "name": "stdout",
     "output_type": "stream",
     "text": [
      "(5102, 3, 10)\n",
      "(5101, 1)\n"
     ]
    }
   ],
   "source": [
    "path = \"one/*\" #-------------------------자신의 db파일이 있는 폴더로 수정---------------------------\n",
    "file_list =  glob.glob(path)\n",
    "file_list_db = [file for file in file_list if file.endswith(\".db\")]\n",
    "# print (\"file_list: {}\".format(file_list_db))\n",
    "len(file_list_db)\n",
    "# EventCode03이 일어났을 당시의 초당 주행기록 가져오기\n",
    "\n",
    "time_slice = 3\n",
    "\n",
    "temp1 = np.zeros((1,time_slice,10)) # srcrec_df2 초기화\n",
    "\n",
    "srcrec_df2 =temp1 # 연결한 db들의 x data 저장소\n",
    "srcrec_df4 = pd.DataFrame() # 연결한 db들의 y data 저장소\n",
    "\n",
    "for i in range (0,len(file_list_db)):\n",
    "    # event 파일 가져오기\n",
    "    f = open('event.csv') #-------------------------자신의 event파일이 있는 폴더로 수정---------------------------\n",
    "    csvReader = csv.reader(f)\n",
    "    # db연결\n",
    "    conn = sqlite3.connect(file_list_db[i])\n",
    "    c = conn. cursor()\n",
    "    # event 테이블 유무 확인 후, 있으면 제거\n",
    "    c.execute('Drop Table If Exists event')\n",
    "    # event 테이블 생성\n",
    "    c.execute(\"create table event(CAR_RECDRV_KEY integer, EVENT_CODE text, EVENT_STDT text, EVENT_ENDT text)\")\n",
    "    # csv 파일 읽어 온 데이터 insert\n",
    "    for row in csvReader:\n",
    "        if row[7] == \"EVENT_CODE\":\n",
    "            continue\n",
    "        sql1 = \"insert into event (CAR_RECDRV_KEY,EVENT_CODE, EVENT_STDT, EVENT_ENDT) values (?,?,?,?)\"\n",
    "        key= int(row[1])\n",
    "        #key 추출\n",
    "        if key != int(file_list_db[i][4:11]): #src에 자신의 db파일이 있어야함, 아니면 인덱스 수정할 것\n",
    "            continue\n",
    "        code = (row[7])\n",
    "        #event 추출\n",
    "        if code[-11:] != \"EventCode03\" and code[-11:] != \"EventCode02\" and code[-11:] != \"EventCode10\":\n",
    "            continue\n",
    "        stdt = (row[8])\n",
    "        endt = (row[9])\n",
    "        c.execute(sql1,(key,code,stdt,endt))\n",
    "    #트랜잭션 저장\n",
    "    conn.commit()\n",
    "    #event03 뽐기 query 실행\n",
    "    sql2 = 'SELECT SRCREC.srcValue, SRCREC.realTime, SRCREC.srcSpeed, SRCREC.srcRPM,\\\n",
    "    SRCREC.srcAPS, SRCREC.srcTPS, SRCREC.srcEngineLoad, SRCREC.srcIntakePress, SRCREC.srcIntakeAirTemp, ifnull(EVENT_CODE, \"0\") FROM SRCREC LEFT OUTER JOIN\\\n",
    "    (SELECT EVENT_CODE, EVENT_STDT s, EVENT_ENDT e FROM event\\\n",
    "    ) ON SRCREC.realTime BETWEEN strftime(\"%Y%m%d%H%M%S\",s,\"-6 seconds\")\\\n",
    "     AND strftime(\"%Y%m%d%H%M%S\",e)\\\n",
    "    EXCEPT \\\n",
    "    SELECT SRCREC.srcValue, SRCREC.realTime, SRCREC.srcSpeed, SRCREC.srcRPM,\\\n",
    "    SRCREC.srcAPS, SRCREC.srcTPS, SRCREC.srcEngineLoad, SRCREC.srcIntakePress, SRCREC.srcIntakeAirTemp, EVENT_CODE FROM SRCREC LEFT JOIN\\\n",
    "    (SELECT EVENT_CODE, EVENT_STDT s, EVENT_ENDT e FROM event\\\n",
    "    ) ON SRCREC.realTime BETWEEN strftime(\"%Y%m%d%H%M%S\",s)\\\n",
    "     AND strftime(\"%Y%m%d%H%M%S\",e)'\n",
    "    query =  c.execute(sql2)\n",
    "    cols = [column[0] for column in query.description]\n",
    "    srcrec_df = pd.DataFrame.from_records(data=query.fetchall(), columns=cols)\n",
    "    \n",
    "    # 슬라이딩 윈도우 적용\n",
    "    srcrec_df = srcrec_df.iloc[100:]\n",
    "    srcrec_df3 = srcrec_df.loc[:,\"ifnull(EVENT_CODE, \\\"0\\\")\"]\n",
    "    srcred_list =  srcrec_df.values\n",
    "    seq_len = time_slice\n",
    "    \n",
    "    if len(srcred_list) -seq_len+1 <=0:\n",
    "        continue\n",
    "        \n",
    "    data_matrix=[]\n",
    "    for i in range(0, len(srcred_list)-seq_len+1): # data를 겹친다. 0 1 2 3 4 5 -> 1 2 3 4 5 6\n",
    "        tmp_data = srcrec_df[i:i+seq_len]\n",
    "        data_matrix.append(tmp_data)\n",
    "    data_matrix_np = np.array(data_matrix)\n",
    "   \n",
    "    # 각 db의 슬라이딩 적용한 x data들 합치기\n",
    "    srcrec_df2 = np.concatenate([srcrec_df2,data_matrix_np])\n",
    "    \n",
    "    # 슬라이딩 적용으로 인해 필요없는 y data 제거\n",
    "    srcrec_df3 = srcrec_df3.iloc[time_slice - 1:]\n",
    "    srcrec_df3 = pd.DataFrame(srcrec_df3)\n",
    "    \n",
    "    srcrec_df3.loc[srcrec_df3['ifnull(EVENT_CODE, \"0\")'].str.contains('EventCode'),'ifnull(EVENT_CODE, \"0\")']='EventCode'\n",
    "    # 각 db의 슬라이딩 적용한 y data들 합치기\n",
    "    srcrec_df4 = pd.concat([srcrec_df4, srcrec_df3], ignore_index=True)\n",
    "    \n",
    "    #db 연결 종\n",
    "    c.close()\n",
    "    conn.close()\n",
    "    #파일 연결 종료\n",
    "    f.close()\n",
    "# srcrec_df2 : x data\n",
    "# srcrec_df4 : y data\n",
    "print(srcrec_df2.shape)\n",
    "print(srcrec_df4.shape)"
   ]
  },
  {
   "cell_type": "markdown",
   "metadata": {},
   "source": [
    "1. srcrec_df2를 초기화할 때 넣어준 0을 지움\n",
    "2. 여러 컬럼 중 x data에 사용할 컬럼들을 걸러냄"
   ]
  },
  {
   "cell_type": "code",
   "execution_count": 4,
   "metadata": {},
   "outputs": [
    {
     "data": {
      "text/plain": [
       "5101"
      ]
     },
     "execution_count": 4,
     "metadata": {},
     "output_type": "execute_result"
    }
   ],
   "source": [
    "x_data = srcrec_df2[1:,:,2:9]\n",
    "len(x_data)"
   ]
  },
  {
   "cell_type": "code",
   "execution_count": 5,
   "metadata": {},
   "outputs": [
    {
     "name": "stdout",
     "output_type": "stream",
     "text": [
      "5101\n"
     ]
    }
   ],
   "source": [
    "y_data = srcrec_df4.values[: ,0]\n",
    "\n",
    "y_data = pd.get_dummies(y_data).values\n",
    "\n",
    "y_data = y_data[:,0]\n",
    "\n",
    "where_0 = np.where(y_data == 0)\n",
    "where_1 = np.where(y_data == 1)\n",
    "\n",
    "y_data[where_0] = 1\n",
    "y_data[where_1] = 0\n",
    "print(len(y_data))\n",
    "#수정사항 categorical로 바꾸기\n",
    "# y_data = to_categorical(y_data)"
   ]
  },
  {
   "cell_type": "markdown",
   "metadata": {},
   "source": [
    "### Change from sequence x data to image "
   ]
  },
  {
   "cell_type": "code",
   "execution_count": 6,
   "metadata": {},
   "outputs": [],
   "source": [
    "# imaging time series as unthresholded recurrence plot\n",
    "def r_plot(data,delay=0):\n",
    "    #input datatype data : ndarray, 1xn, n-number of samples in each series\n",
    "    #input datatype delay : int, delay embedding for RP formation, default value is 1\n",
    "    #output datatype rp : ndarray, nxn, unthresholded recurrence plot for series\n",
    "    transformed = np.zeros([2,len(data)-delay])\n",
    "    transformed[0,:] = data[0:len(data)-delay]\n",
    "    transformed[1,:] = data[delay:len(data)]\n",
    "    rp = np.zeros([len(data)-delay,len(data)-delay])\n",
    "    for i in range(len(rp)):\n",
    "        temp = np.tile(transformed[:,i],(len(rp),1)).T-transformed\n",
    "        temp2 = np.square(temp)\n",
    "        rp[i,:] = np.sum(temp2,axis=0)\n",
    "    return np.array(rp).tolist()"
   ]
  },
  {
   "cell_type": "code",
   "execution_count": 7,
   "metadata": {},
   "outputs": [
    {
     "name": "stdout",
     "output_type": "stream",
     "text": [
      "3\n",
      "3\n",
      "7\n"
     ]
    }
   ],
   "source": [
    "import matplotlib.pyplot as plt\n",
    "\n",
    "#RP embedding\n",
    "total = []\n",
    "for row in range(0, len(x_data)):\n",
    "    RP=[]\n",
    "    for col in range(0, len(x_data[row][0])):       \n",
    "        toy_data=x_data[row,:,col]\n",
    "        RP.append(r_plot(toy_data))\n",
    "    total.append(RP)\n",
    "\n",
    "total2 = []\n",
    "for rp in total:\n",
    "    RP2 = []\n",
    "    myrp2 ={}\n",
    "    for i in range(0, time_slice):\n",
    "        myrp2[i] = np.zeros((time_slice, 7))\n",
    "    for rp_count in range(0, len(myrp2)):\n",
    "        myrp = myrp2[rp_count]\n",
    "        rp_mini_count=0;\n",
    "        for rp_mini in rp:\n",
    "            for index in range(0, len(rp_mini[0])):\n",
    "                myrp[index][rp_mini_count] = rp_mini[rp_count][index]\n",
    "            rp_mini_count = rp_mini_count+1\n",
    "            \n",
    "    for key, value in myrp2.items():\n",
    "        RP2.append(value)\n",
    "        \n",
    "    total2.append(RP2)     \n",
    "    \n",
    "print(len(total2[0]))\n",
    "print(len(total2[0][0]))\n",
    "print(len(total2[0][0][0]))\n",
    "x_data = total2"
   ]
  },
  {
   "cell_type": "markdown",
   "metadata": {},
   "source": [
    "### make the 0 and 1 ratio the same"
   ]
  },
  {
   "cell_type": "code",
   "execution_count": 8,
   "metadata": {},
   "outputs": [
    {
     "name": "stdout",
     "output_type": "stream",
     "text": [
      "5101\n",
      "48\n"
     ]
    }
   ],
   "source": [
    "import math\n",
    "\n",
    "yindex=0\n",
    "y1index=0\n",
    "x1_data = []\n",
    "y1_data = []\n",
    "\n",
    "print(len(y_data))\n",
    "for ydata in y_data:\n",
    "    if ydata == 1:\n",
    "        x1_data.append(x_data[yindex])\n",
    "        y1_data.append(y_data[yindex])\n",
    "        y1index= y1index+1\n",
    "    yindex = yindex+1\n",
    "print(y1index)\n",
    "\n",
    "yindex=0\n",
    "y1getindex=0 #가져오는 데이터 카운트 \n",
    "for ydata in y_data:\n",
    "    if ydata == 0:\n",
    "        if y1getindex == math.floor(y1index*1.5):# event: normal = 1 : 1.5\n",
    "            break\n",
    "        x1_data.append(x_data[yindex])\n",
    "        y1_data.append(y_data[yindex])\n",
    "        y1getindex= y1getindex+1\n",
    "    yindex = yindex+1\n"
   ]
  },
  {
   "cell_type": "code",
   "execution_count": 9,
   "metadata": {},
   "outputs": [
    {
     "name": "stdout",
     "output_type": "stream",
     "text": [
      "(120, 3, 3, 7)\n"
     ]
    }
   ],
   "source": [
    "x_data = np.array(x1_data)\n",
    "y_data = np.array(y1_data)\n",
    "#print(x_data[:10])\n",
    "print(x_data.shape)"
   ]
  },
  {
   "cell_type": "markdown",
   "metadata": {},
   "source": [
    "### Hyper Parameters"
   ]
  },
  {
   "cell_type": "code",
   "execution_count": 10,
   "metadata": {},
   "outputs": [],
   "source": [
    "learning_rate = 0.00005\n",
    "batch_size = 256\n",
    "training_epochs = 700\n",
    "\n",
    "tf.random.set_seed(777) # weight 초기화용"
   ]
  },
  {
   "cell_type": "markdown",
   "metadata": {},
   "source": [
    "### Creating a Checkpoint Directory"
   ]
  },
  {
   "cell_type": "code",
   "execution_count": 11,
   "metadata": {},
   "outputs": [],
   "source": [
    "cur_dir = os.getcwd()\n",
    "ckpt_dir_name = 'checkpoints'\n",
    "model_dir_name = 'cnn_keras_sequential_eager_입력데이터 넣기 완료'\n",
    "\n",
    "checkpoint_dir = os.path.join(cur_dir, ckpt_dir_name, model_dir_name)\n",
    "os.makedirs(checkpoint_dir, exist_ok=True)\n",
    "\n",
    "checkpoint_prefix = os.path.join(checkpoint_dir, model_dir_name)"
   ]
  },
  {
   "cell_type": "markdown",
   "metadata": {},
   "source": [
    "### split train and test "
   ]
  },
  {
   "cell_type": "code",
   "execution_count": 12,
   "metadata": {},
   "outputs": [
    {
     "name": "stdout",
     "output_type": "stream",
     "text": [
      "76\n",
      "76\n"
     ]
    }
   ],
   "source": [
    "from sklearn.model_selection import train_test_split\n",
    "trnx, tstx, trny, tsty = train_test_split(x_data, y_data, test_size=0.2, random_state=111)\n",
    "trnx, valx, trny, valy = train_test_split(trnx, trny, test_size=0.2, random_state=111)\n",
    "# trnx = np.expand_dims(trnx,axis=-1)\n",
    "# tstx = np.expand_dims(tstx,axis=-1)\n",
    "print(len(trnx))\n",
    "print(len(trny))"
   ]
  },
  {
   "cell_type": "markdown",
   "metadata": {},
   "source": [
    "### Model Function"
   ]
  },
  {
   "cell_type": "code",
   "execution_count": 13,
   "metadata": {},
   "outputs": [
    {
     "name": "stderr",
     "output_type": "stream",
     "text": [
      "2021-12-10 06:42:20.914970: I tensorflow/core/platform/cpu_feature_guard.cc:142] This TensorFlow binary is optimized with oneAPI Deep Neural Network Library (oneDNN) to use the following CPU instructions in performance-critical operations:  SSE4.1 SSE4.2 AVX AVX2 FMA\n",
      "To enable them in other operations, rebuild TensorFlow with the appropriate compiler flags.\n",
      "2021-12-10 06:42:20.919396: I tensorflow/core/common_runtime/process_util.cc:146] Creating new thread pool with default inter op setting: 2. Tune using inter_op_parallelism_threads for best performance.\n"
     ]
    }
   ],
   "source": [
    "model = keras.Sequential()#이제 계층을 순차적으로 연결 가능\n",
    "model.add(keras.layers.Conv2D(filters=128, kernel_size=3, activation=tf.nn.relu, padding='SAME', \n",
    "                              input_shape=(time_slice, time_slice, 7)))# input_shape => 첫 layer에만 선언\n",
    "model.add(keras.layers.MaxPool2D(padding='SAME'))\n",
    "model.add(keras.layers.Reshape((4,-1)))\n",
    "model.add(keras.layers.LSTM(64, return_sequences=True))\n",
    "model.add(keras.layers.LSTM(32, return_sequences=True))\n",
    "model.add(keras.layers.Flatten())\n",
    "model.add(keras.layers.Dense(256, activation=tf.nn.relu))\n",
    "#수정사항 2, softmax\n",
    "model.add(keras.layers.Dense(1, activation=tf.nn.sigmoid))"
   ]
  },
  {
   "cell_type": "code",
   "execution_count": 14,
   "metadata": {
    "scrolled": false
   },
   "outputs": [
    {
     "name": "stdout",
     "output_type": "stream",
     "text": [
      "Model: \"sequential\"\n",
      "_________________________________________________________________\n",
      "Layer (type)                 Output Shape              Param #   \n",
      "=================================================================\n",
      "conv2d (Conv2D)              (None, 3, 3, 128)         8192      \n",
      "_________________________________________________________________\n",
      "max_pooling2d (MaxPooling2D) (None, 2, 2, 128)         0         \n",
      "_________________________________________________________________\n",
      "reshape (Reshape)            (None, 4, 128)            0         \n",
      "_________________________________________________________________\n",
      "lstm (LSTM)                  (None, 4, 64)             49408     \n",
      "_________________________________________________________________\n",
      "lstm_1 (LSTM)                (None, 4, 32)             12416     \n",
      "_________________________________________________________________\n",
      "flatten (Flatten)            (None, 128)               0         \n",
      "_________________________________________________________________\n",
      "dense (Dense)                (None, 256)               33024     \n",
      "_________________________________________________________________\n",
      "dense_1 (Dense)              (None, 1)                 257       \n",
      "=================================================================\n",
      "Total params: 103,297\n",
      "Trainable params: 103,297\n",
      "Non-trainable params: 0\n",
      "_________________________________________________________________\n"
     ]
    }
   ],
   "source": [
    "model.summary()"
   ]
  },
  {
   "cell_type": "code",
   "execution_count": 15,
   "metadata": {},
   "outputs": [
    {
     "name": "stderr",
     "output_type": "stream",
     "text": [
      "2021-12-10 06:42:21.477606: I tensorflow/core/profiler/lib/profiler_session.cc:136] Profiler session initializing.\n",
      "2021-12-10 06:42:21.477651: I tensorflow/core/profiler/lib/profiler_session.cc:155] Profiler session started.\n",
      "2021-12-10 06:42:21.477702: I tensorflow/core/profiler/lib/profiler_session.cc:172] Profiler session tear down.\n"
     ]
    }
   ],
   "source": [
    "from tensorflow.keras.callbacks import EarlyStopping\n",
    "\n",
    "\n",
    "#수정사항 categorical\n",
    "model.compile(loss='binary_crossentropy', optimizer = keras.optimizers.Adam(lr = learning_rate,) , metrics=['accuracy'])\n",
    "\n",
    "# 텐서보드에 기록\n",
    "TB_log_dir = make_Tensorboard_dir(dir_name)\n",
    "TensorB = tf.keras.callbacks.TensorBoard(log_dir = TB_log_dir)\n",
    "\n",
    "early_stopping = EarlyStopping(patience=20)"
   ]
  },
  {
   "cell_type": "code",
   "execution_count": 16,
   "metadata": {
    "scrolled": true
   },
   "outputs": [
    {
     "name": "stdout",
     "output_type": "stream",
     "text": [
      "Epoch 1/700\n"
     ]
    },
    {
     "name": "stderr",
     "output_type": "stream",
     "text": [
      "2021-12-10 06:42:21.523954: I tensorflow/compiler/mlir/mlir_graph_optimization_pass.cc:116] None of the MLIR optimization passes are enabled (registered 2)\n",
      "2021-12-10 06:42:21.544528: I tensorflow/core/platform/profile_utils/cpu_utils.cc:112] CPU Frequency: 2199955000 Hz\n"
     ]
    },
    {
     "name": "stdout",
     "output_type": "stream",
     "text": [
      "1/1 [==============================] - 8s 8s/step - loss: 0.6896 - accuracy: 0.5658 - val_loss: 0.6848 - val_accuracy: 0.5000\n",
      "Epoch 2/700\n",
      "1/1 [==============================] - ETA: 0s - loss: 0.6869 - accuracy: 0.5789"
     ]
    },
    {
     "name": "stderr",
     "output_type": "stream",
     "text": [
      "2021-12-10 06:42:29.926806: I tensorflow/core/profiler/lib/profiler_session.cc:136] Profiler session initializing.\n",
      "2021-12-10 06:42:29.926881: I tensorflow/core/profiler/lib/profiler_session.cc:155] Profiler session started.\n"
     ]
    },
    {
     "name": "stdout",
     "output_type": "stream",
     "text": [
      "\b\b\b\b\b\b\b\b\b\b\b\b\b\b\b\b\b\b\b\b\b\b\b\b\b\b\b\b\b\b\b\b\b\b\b\b\b\b\b\b\b\b\b\b\b\b\b\b\b\b\b\b\b\b\b\b\b\b\b\b\b\b\b\b\b\b\b\b\b\b\b\b\b\b\b\b\b\b\b\b\r",
      "1/1 [==============================] - 0s 443ms/step - loss: 0.6869 - accuracy: 0.5789 - val_loss: 0.6839 - val_accuracy: 0.4500\n"
     ]
    },
    {
     "name": "stderr",
     "output_type": "stream",
     "text": [
      "2021-12-10 06:42:30.085636: I tensorflow/core/profiler/lib/profiler_session.cc:71] Profiler session collecting data.\n",
      "2021-12-10 06:42:30.130945: I tensorflow/core/profiler/lib/profiler_session.cc:172] Profiler session tear down.\n",
      "2021-12-10 06:42:30.189413: I tensorflow/core/profiler/rpc/client/save_profile.cc:137] Creating directory: ./Learning_log/20211210-064221/train/plugins/profile/2021_12_10_06_42_30\n",
      "2021-12-10 06:42:30.214477: I tensorflow/core/profiler/rpc/client/save_profile.cc:143] Dumped gzipped tool data for trace.json.gz to ./Learning_log/20211210-064221/train/plugins/profile/2021_12_10_06_42_30/ckserver.trace.json.gz\n",
      "2021-12-10 06:42:30.255895: I tensorflow/core/profiler/rpc/client/save_profile.cc:137] Creating directory: ./Learning_log/20211210-064221/train/plugins/profile/2021_12_10_06_42_30\n",
      "2021-12-10 06:42:30.260035: I tensorflow/core/profiler/rpc/client/save_profile.cc:143] Dumped gzipped tool data for memory_profile.json.gz to ./Learning_log/20211210-064221/train/plugins/profile/2021_12_10_06_42_30/ckserver.memory_profile.json.gz\n",
      "2021-12-10 06:42:30.260639: I tensorflow/core/profiler/rpc/client/capture_profile.cc:251] Creating directory: ./Learning_log/20211210-064221/train/plugins/profile/2021_12_10_06_42_30Dumped tool data for xplane.pb to ./Learning_log/20211210-064221/train/plugins/profile/2021_12_10_06_42_30/ckserver.xplane.pb\n",
      "Dumped tool data for overview_page.pb to ./Learning_log/20211210-064221/train/plugins/profile/2021_12_10_06_42_30/ckserver.overview_page.pb\n",
      "Dumped tool data for input_pipeline.pb to ./Learning_log/20211210-064221/train/plugins/profile/2021_12_10_06_42_30/ckserver.input_pipeline.pb\n",
      "Dumped tool data for tensorflow_stats.pb to ./Learning_log/20211210-064221/train/plugins/profile/2021_12_10_06_42_30/ckserver.tensorflow_stats.pb\n",
      "Dumped tool data for kernel_stats.pb to ./Learning_log/20211210-064221/train/plugins/profile/2021_12_10_06_42_30/ckserver.kernel_stats.pb\n",
      "\n"
     ]
    },
    {
     "name": "stdout",
     "output_type": "stream",
     "text": [
      "Epoch 3/700\n",
      "1/1 [==============================] - 0s 492ms/step - loss: 0.6841 - accuracy: 0.6447 - val_loss: 0.6844 - val_accuracy: 0.5000\n",
      "Epoch 4/700\n",
      "1/1 [==============================] - 0s 452ms/step - loss: 0.6831 - accuracy: 0.6184 - val_loss: 0.6827 - val_accuracy: 0.6000\n",
      "Epoch 5/700\n",
      "1/1 [==============================] - 0s 368ms/step - loss: 0.6811 - accuracy: 0.6316 - val_loss: 0.6865 - val_accuracy: 0.6000\n",
      "Epoch 6/700\n",
      "1/1 [==============================] - 1s 740ms/step - loss: 0.6805 - accuracy: 0.6316 - val_loss: 0.6853 - val_accuracy: 0.6000\n",
      "Epoch 7/700\n",
      "1/1 [==============================] - 0s 374ms/step - loss: 0.6791 - accuracy: 0.6316 - val_loss: 0.6805 - val_accuracy: 0.6000\n",
      "Epoch 8/700\n",
      "1/1 [==============================] - 0s 328ms/step - loss: 0.6774 - accuracy: 0.6316 - val_loss: 0.6810 - val_accuracy: 0.6000\n",
      "Epoch 9/700\n",
      "1/1 [==============================] - 1s 628ms/step - loss: 0.6762 - accuracy: 0.6316 - val_loss: 0.6805 - val_accuracy: 0.6000\n",
      "Epoch 10/700\n",
      "1/1 [==============================] - 0s 367ms/step - loss: 0.6751 - accuracy: 0.6316 - val_loss: 0.6820 - val_accuracy: 0.6000\n",
      "Epoch 11/700\n",
      "1/1 [==============================] - 0s 334ms/step - loss: 0.6741 - accuracy: 0.6316 - val_loss: 0.6825 - val_accuracy: 0.6000\n",
      "Epoch 12/700\n",
      "1/1 [==============================] - 1s 678ms/step - loss: 0.6730 - accuracy: 0.6316 - val_loss: 0.6821 - val_accuracy: 0.6000\n",
      "Epoch 13/700\n",
      "1/1 [==============================] - 0s 488ms/step - loss: 0.6725 - accuracy: 0.6316 - val_loss: 0.6827 - val_accuracy: 0.6000\n",
      "Epoch 14/700\n",
      "1/1 [==============================] - 1s 549ms/step - loss: 0.6717 - accuracy: 0.6316 - val_loss: 0.6830 - val_accuracy: 0.6000\n",
      "Epoch 15/700\n",
      "1/1 [==============================] - 1s 612ms/step - loss: 0.6707 - accuracy: 0.6316 - val_loss: 0.6843 - val_accuracy: 0.6000\n",
      "Epoch 16/700\n",
      "1/1 [==============================] - 0s 300ms/step - loss: 0.6690 - accuracy: 0.6447 - val_loss: 0.6829 - val_accuracy: 0.6000\n",
      "Epoch 17/700\n",
      "1/1 [==============================] - 0s 431ms/step - loss: 0.6677 - accuracy: 0.6447 - val_loss: 0.6817 - val_accuracy: 0.6000\n",
      "Epoch 18/700\n",
      "1/1 [==============================] - 1s 590ms/step - loss: 0.6670 - accuracy: 0.6447 - val_loss: 0.6810 - val_accuracy: 0.6000\n",
      "Epoch 19/700\n",
      "1/1 [==============================] - 0s 324ms/step - loss: 0.6658 - accuracy: 0.6447 - val_loss: 0.6807 - val_accuracy: 0.6000\n",
      "Epoch 20/700\n",
      "1/1 [==============================] - 1s 585ms/step - loss: 0.6647 - accuracy: 0.6447 - val_loss: 0.6790 - val_accuracy: 0.6000\n",
      "Epoch 21/700\n",
      "1/1 [==============================] - 1s 688ms/step - loss: 0.6639 - accuracy: 0.6447 - val_loss: 0.6784 - val_accuracy: 0.6000\n",
      "Epoch 22/700\n",
      "1/1 [==============================] - 0s 419ms/step - loss: 0.6630 - accuracy: 0.6447 - val_loss: 0.6780 - val_accuracy: 0.6000\n",
      "Epoch 23/700\n",
      "1/1 [==============================] - 1s 729ms/step - loss: 0.6623 - accuracy: 0.6447 - val_loss: 0.6777 - val_accuracy: 0.6000\n",
      "Epoch 24/700\n",
      "1/1 [==============================] - 1s 545ms/step - loss: 0.6618 - accuracy: 0.6447 - val_loss: 0.6787 - val_accuracy: 0.6000\n",
      "Epoch 25/700\n",
      "1/1 [==============================] - 1s 847ms/step - loss: 0.6613 - accuracy: 0.6447 - val_loss: 0.6783 - val_accuracy: 0.6000\n",
      "Epoch 26/700\n",
      "1/1 [==============================] - 1s 524ms/step - loss: 0.6605 - accuracy: 0.6447 - val_loss: 0.6777 - val_accuracy: 0.6000\n",
      "Epoch 27/700\n",
      "1/1 [==============================] - 1s 561ms/step - loss: 0.6596 - accuracy: 0.6447 - val_loss: 0.6771 - val_accuracy: 0.6000\n",
      "Epoch 28/700\n",
      "1/1 [==============================] - 1s 709ms/step - loss: 0.6590 - accuracy: 0.6447 - val_loss: 0.6767 - val_accuracy: 0.6000\n",
      "Epoch 29/700\n",
      "1/1 [==============================] - 0s 455ms/step - loss: 0.6583 - accuracy: 0.6447 - val_loss: 0.6766 - val_accuracy: 0.6000\n",
      "Epoch 30/700\n",
      "1/1 [==============================] - 1s 963ms/step - loss: 0.6576 - accuracy: 0.6447 - val_loss: 0.6763 - val_accuracy: 0.6000\n",
      "Epoch 31/700\n",
      "1/1 [==============================] - 1s 505ms/step - loss: 0.6570 - accuracy: 0.6447 - val_loss: 0.6760 - val_accuracy: 0.6000\n",
      "Epoch 32/700\n",
      "1/1 [==============================] - 1s 723ms/step - loss: 0.6563 - accuracy: 0.6447 - val_loss: 0.6763 - val_accuracy: 0.6000\n",
      "Epoch 33/700\n",
      "1/1 [==============================] - 1s 544ms/step - loss: 0.6561 - accuracy: 0.6447 - val_loss: 0.6757 - val_accuracy: 0.6000\n",
      "Epoch 34/700\n",
      "1/1 [==============================] - 1s 592ms/step - loss: 0.6556 - accuracy: 0.6447 - val_loss: 0.6756 - val_accuracy: 0.6000\n",
      "Epoch 35/700\n",
      "1/1 [==============================] - 1s 587ms/step - loss: 0.6549 - accuracy: 0.6447 - val_loss: 0.6759 - val_accuracy: 0.6000\n",
      "Epoch 36/700\n",
      "1/1 [==============================] - 1s 637ms/step - loss: 0.6543 - accuracy: 0.6447 - val_loss: 0.6755 - val_accuracy: 0.6000\n",
      "Epoch 37/700\n",
      "1/1 [==============================] - 0s 383ms/step - loss: 0.6536 - accuracy: 0.6447 - val_loss: 0.6751 - val_accuracy: 0.6000\n",
      "Epoch 38/700\n",
      "1/1 [==============================] - 1s 536ms/step - loss: 0.6530 - accuracy: 0.6447 - val_loss: 0.6743 - val_accuracy: 0.6000\n",
      "Epoch 39/700\n",
      "1/1 [==============================] - 1s 517ms/step - loss: 0.6523 - accuracy: 0.6447 - val_loss: 0.6737 - val_accuracy: 0.6000\n",
      "Epoch 40/700\n",
      "1/1 [==============================] - 0s 454ms/step - loss: 0.6517 - accuracy: 0.6447 - val_loss: 0.6732 - val_accuracy: 0.6000\n",
      "Epoch 41/700\n",
      "1/1 [==============================] - 0s 458ms/step - loss: 0.6513 - accuracy: 0.6447 - val_loss: 0.6729 - val_accuracy: 0.6000\n",
      "Epoch 42/700\n",
      "1/1 [==============================] - 0s 316ms/step - loss: 0.6510 - accuracy: 0.6447 - val_loss: 0.6729 - val_accuracy: 0.6000\n",
      "Epoch 43/700\n",
      "1/1 [==============================] - 1s 517ms/step - loss: 0.6503 - accuracy: 0.6447 - val_loss: 0.6728 - val_accuracy: 0.6000\n",
      "Epoch 44/700\n",
      "1/1 [==============================] - 1s 593ms/step - loss: 0.6497 - accuracy: 0.6447 - val_loss: 0.6727 - val_accuracy: 0.6000\n",
      "Epoch 45/700\n",
      "1/1 [==============================] - 0s 449ms/step - loss: 0.6492 - accuracy: 0.6447 - val_loss: 0.6720 - val_accuracy: 0.6000\n",
      "Epoch 46/700\n",
      "1/1 [==============================] - 1s 628ms/step - loss: 0.6484 - accuracy: 0.6447 - val_loss: 0.6716 - val_accuracy: 0.6000\n",
      "Epoch 47/700\n",
      "1/1 [==============================] - 0s 424ms/step - loss: 0.6476 - accuracy: 0.6447 - val_loss: 0.6710 - val_accuracy: 0.6000\n",
      "Epoch 48/700\n",
      "1/1 [==============================] - 0s 440ms/step - loss: 0.6468 - accuracy: 0.6447 - val_loss: 0.6704 - val_accuracy: 0.6000\n",
      "Epoch 49/700\n",
      "1/1 [==============================] - 1s 669ms/step - loss: 0.6457 - accuracy: 0.6447 - val_loss: 0.6702 - val_accuracy: 0.6000\n",
      "Epoch 50/700\n",
      "1/1 [==============================] - 0s 468ms/step - loss: 0.6453 - accuracy: 0.6447 - val_loss: 0.6702 - val_accuracy: 0.6000\n",
      "Epoch 51/700\n",
      "1/1 [==============================] - 1s 641ms/step - loss: 0.6449 - accuracy: 0.6447 - val_loss: 0.6695 - val_accuracy: 0.6000\n",
      "Epoch 52/700\n",
      "1/1 [==============================] - 1s 597ms/step - loss: 0.6442 - accuracy: 0.6447 - val_loss: 0.6702 - val_accuracy: 0.6000\n",
      "Epoch 53/700\n",
      "1/1 [==============================] - 1s 632ms/step - loss: 0.6433 - accuracy: 0.6447 - val_loss: 0.6697 - val_accuracy: 0.6000\n",
      "Epoch 54/700\n",
      "1/1 [==============================] - 1s 708ms/step - loss: 0.6426 - accuracy: 0.6447 - val_loss: 0.6686 - val_accuracy: 0.6000\n",
      "Epoch 55/700\n",
      "1/1 [==============================] - 1s 557ms/step - loss: 0.6422 - accuracy: 0.6447 - val_loss: 0.6682 - val_accuracy: 0.6000\n",
      "Epoch 56/700\n",
      "1/1 [==============================] - 1s 652ms/step - loss: 0.6414 - accuracy: 0.6447 - val_loss: 0.6676 - val_accuracy: 0.6000\n",
      "Epoch 57/700\n",
      "1/1 [==============================] - 1s 793ms/step - loss: 0.6412 - accuracy: 0.6447 - val_loss: 0.6678 - val_accuracy: 0.6000\n",
      "Epoch 58/700\n",
      "1/1 [==============================] - 1s 658ms/step - loss: 0.6401 - accuracy: 0.6447 - val_loss: 0.6680 - val_accuracy: 0.6000\n",
      "Epoch 59/700\n",
      "1/1 [==============================] - 0s 444ms/step - loss: 0.6397 - accuracy: 0.6447 - val_loss: 0.6684 - val_accuracy: 0.6000\n",
      "Epoch 60/700\n",
      "1/1 [==============================] - 1s 576ms/step - loss: 0.6392 - accuracy: 0.6447 - val_loss: 0.6682 - val_accuracy: 0.6000\n"
     ]
    },
    {
     "name": "stdout",
     "output_type": "stream",
     "text": [
      "Epoch 61/700\n",
      "1/1 [==============================] - 1s 585ms/step - loss: 0.6390 - accuracy: 0.6447 - val_loss: 0.6668 - val_accuracy: 0.6000\n",
      "Epoch 62/700\n",
      "1/1 [==============================] - 1s 705ms/step - loss: 0.6384 - accuracy: 0.6447 - val_loss: 0.6678 - val_accuracy: 0.6000\n",
      "Epoch 63/700\n",
      "1/1 [==============================] - 1s 659ms/step - loss: 0.6379 - accuracy: 0.6447 - val_loss: 0.6669 - val_accuracy: 0.6000\n",
      "Epoch 64/700\n",
      "1/1 [==============================] - 1s 778ms/step - loss: 0.6374 - accuracy: 0.6447 - val_loss: 0.6666 - val_accuracy: 0.6000\n",
      "Epoch 65/700\n",
      "1/1 [==============================] - 1s 569ms/step - loss: 0.6372 - accuracy: 0.6447 - val_loss: 0.6651 - val_accuracy: 0.6000\n",
      "Epoch 66/700\n",
      "1/1 [==============================] - 1s 883ms/step - loss: 0.6372 - accuracy: 0.6447 - val_loss: 0.6663 - val_accuracy: 0.6000\n",
      "Epoch 67/700\n",
      "1/1 [==============================] - 1s 621ms/step - loss: 0.6363 - accuracy: 0.6447 - val_loss: 0.6662 - val_accuracy: 0.6000\n",
      "Epoch 68/700\n",
      "1/1 [==============================] - 1s 523ms/step - loss: 0.6353 - accuracy: 0.6447 - val_loss: 0.6662 - val_accuracy: 0.6000\n",
      "Epoch 69/700\n",
      "1/1 [==============================] - 1s 565ms/step - loss: 0.6349 - accuracy: 0.6447 - val_loss: 0.6639 - val_accuracy: 0.6000\n",
      "Epoch 70/700\n",
      "1/1 [==============================] - 1s 596ms/step - loss: 0.6346 - accuracy: 0.6447 - val_loss: 0.6637 - val_accuracy: 0.6000\n",
      "Epoch 71/700\n",
      "1/1 [==============================] - 1s 745ms/step - loss: 0.6337 - accuracy: 0.6447 - val_loss: 0.6631 - val_accuracy: 0.6000\n",
      "Epoch 72/700\n",
      "1/1 [==============================] - 0s 345ms/step - loss: 0.6335 - accuracy: 0.6447 - val_loss: 0.6579 - val_accuracy: 0.6000\n",
      "Epoch 73/700\n",
      "1/1 [==============================] - 0s 452ms/step - loss: 0.6332 - accuracy: 0.6447 - val_loss: 0.6605 - val_accuracy: 0.6000\n",
      "Epoch 74/700\n",
      "1/1 [==============================] - 0s 464ms/step - loss: 0.6325 - accuracy: 0.6447 - val_loss: 0.6602 - val_accuracy: 0.6000\n",
      "Epoch 75/700\n",
      "1/1 [==============================] - 0s 469ms/step - loss: 0.6317 - accuracy: 0.6447 - val_loss: 0.6599 - val_accuracy: 0.6000\n",
      "Epoch 76/700\n",
      "1/1 [==============================] - 1s 781ms/step - loss: 0.6312 - accuracy: 0.6447 - val_loss: 0.6564 - val_accuracy: 0.6000\n",
      "Epoch 77/700\n",
      "1/1 [==============================] - 1s 638ms/step - loss: 0.6316 - accuracy: 0.6447 - val_loss: 0.6581 - val_accuracy: 0.6000\n",
      "Epoch 78/700\n",
      "1/1 [==============================] - 1s 531ms/step - loss: 0.6320 - accuracy: 0.6447 - val_loss: 0.6558 - val_accuracy: 0.6000\n",
      "Epoch 79/700\n",
      "1/1 [==============================] - 1s 657ms/step - loss: 0.6314 - accuracy: 0.6447 - val_loss: 0.6563 - val_accuracy: 0.6000\n",
      "Epoch 80/700\n",
      "1/1 [==============================] - 0s 332ms/step - loss: 0.6310 - accuracy: 0.6447 - val_loss: 0.6562 - val_accuracy: 0.6000\n",
      "Epoch 81/700\n",
      "1/1 [==============================] - 0s 365ms/step - loss: 0.6292 - accuracy: 0.6447 - val_loss: 0.6559 - val_accuracy: 0.6000\n",
      "Epoch 82/700\n",
      "1/1 [==============================] - 0s 442ms/step - loss: 0.6289 - accuracy: 0.6447 - val_loss: 0.6564 - val_accuracy: 0.6000\n",
      "Epoch 83/700\n",
      "1/1 [==============================] - 0s 362ms/step - loss: 0.6284 - accuracy: 0.6447 - val_loss: 0.6578 - val_accuracy: 0.6000\n",
      "Epoch 84/700\n",
      "1/1 [==============================] - 0s 483ms/step - loss: 0.6280 - accuracy: 0.6447 - val_loss: 0.6579 - val_accuracy: 0.6000\n",
      "Epoch 85/700\n",
      "1/1 [==============================] - 1s 521ms/step - loss: 0.6278 - accuracy: 0.6447 - val_loss: 0.6582 - val_accuracy: 0.6000\n",
      "Epoch 86/700\n",
      "1/1 [==============================] - 0s 346ms/step - loss: 0.6273 - accuracy: 0.6447 - val_loss: 0.6593 - val_accuracy: 0.6000\n",
      "Epoch 87/700\n",
      "1/1 [==============================] - 1s 579ms/step - loss: 0.6267 - accuracy: 0.6447 - val_loss: 0.6592 - val_accuracy: 0.6000\n",
      "Epoch 88/700\n",
      "1/1 [==============================] - 0s 384ms/step - loss: 0.6262 - accuracy: 0.6447 - val_loss: 0.6589 - val_accuracy: 0.6000\n",
      "Epoch 89/700\n",
      "1/1 [==============================] - 0s 385ms/step - loss: 0.6257 - accuracy: 0.6447 - val_loss: 0.6586 - val_accuracy: 0.6000\n",
      "Epoch 90/700\n",
      "1/1 [==============================] - 1s 511ms/step - loss: 0.6251 - accuracy: 0.6447 - val_loss: 0.6582 - val_accuracy: 0.6000\n",
      "Epoch 91/700\n",
      "1/1 [==============================] - 0s 459ms/step - loss: 0.6246 - accuracy: 0.6447 - val_loss: 0.6580 - val_accuracy: 0.6000\n",
      "Epoch 92/700\n",
      "1/1 [==============================] - 0s 382ms/step - loss: 0.6240 - accuracy: 0.6447 - val_loss: 0.6578 - val_accuracy: 0.6000\n",
      "Epoch 93/700\n",
      "1/1 [==============================] - 1s 801ms/step - loss: 0.6237 - accuracy: 0.6447 - val_loss: 0.6575 - val_accuracy: 0.6000\n",
      "Epoch 94/700\n",
      "1/1 [==============================] - 1s 519ms/step - loss: 0.6229 - accuracy: 0.6447 - val_loss: 0.6551 - val_accuracy: 0.6000\n",
      "Epoch 95/700\n",
      "1/1 [==============================] - 1s 673ms/step - loss: 0.6222 - accuracy: 0.6447 - val_loss: 0.6552 - val_accuracy: 0.6000\n",
      "Epoch 96/700\n",
      "1/1 [==============================] - 1s 670ms/step - loss: 0.6215 - accuracy: 0.6447 - val_loss: 0.6564 - val_accuracy: 0.6000\n",
      "Epoch 97/700\n",
      "1/1 [==============================] - 1s 656ms/step - loss: 0.6209 - accuracy: 0.6447 - val_loss: 0.6568 - val_accuracy: 0.6000\n",
      "Epoch 98/700\n",
      "1/1 [==============================] - 1s 584ms/step - loss: 0.6205 - accuracy: 0.6447 - val_loss: 0.6562 - val_accuracy: 0.6000\n",
      "Epoch 99/700\n",
      "1/1 [==============================] - 1s 837ms/step - loss: 0.6197 - accuracy: 0.6447 - val_loss: 0.6562 - val_accuracy: 0.6000\n",
      "Epoch 100/700\n",
      "1/1 [==============================] - 0s 339ms/step - loss: 0.6192 - accuracy: 0.6447 - val_loss: 0.6554 - val_accuracy: 0.6000\n",
      "Epoch 101/700\n",
      "1/1 [==============================] - 1s 533ms/step - loss: 0.6189 - accuracy: 0.6447 - val_loss: 0.6553 - val_accuracy: 0.6000\n",
      "Epoch 102/700\n",
      "1/1 [==============================] - 1s 555ms/step - loss: 0.6179 - accuracy: 0.6447 - val_loss: 0.6557 - val_accuracy: 0.6000\n",
      "Epoch 103/700\n",
      "1/1 [==============================] - 1s 665ms/step - loss: 0.6175 - accuracy: 0.6447 - val_loss: 0.6554 - val_accuracy: 0.6000\n",
      "Epoch 104/700\n",
      "1/1 [==============================] - 1s 778ms/step - loss: 0.6170 - accuracy: 0.6447 - val_loss: 0.6567 - val_accuracy: 0.6000\n",
      "Epoch 105/700\n",
      "1/1 [==============================] - 1s 590ms/step - loss: 0.6167 - accuracy: 0.6447 - val_loss: 0.6567 - val_accuracy: 0.6000\n",
      "Epoch 106/700\n",
      "1/1 [==============================] - 0s 429ms/step - loss: 0.6166 - accuracy: 0.6447 - val_loss: 0.6565 - val_accuracy: 0.6000\n",
      "Epoch 107/700\n",
      "1/1 [==============================] - 1s 607ms/step - loss: 0.6162 - accuracy: 0.6447 - val_loss: 0.6562 - val_accuracy: 0.6000\n",
      "Epoch 108/700\n",
      "1/1 [==============================] - 1s 612ms/step - loss: 0.6155 - accuracy: 0.6447 - val_loss: 0.6559 - val_accuracy: 0.6000\n",
      "Epoch 109/700\n",
      "1/1 [==============================] - 0s 479ms/step - loss: 0.6148 - accuracy: 0.6447 - val_loss: 0.6591 - val_accuracy: 0.6000\n",
      "Epoch 110/700\n",
      "1/1 [==============================] - 0s 483ms/step - loss: 0.6140 - accuracy: 0.6447 - val_loss: 0.6555 - val_accuracy: 0.6000\n",
      "Epoch 111/700\n",
      "1/1 [==============================] - 0s 434ms/step - loss: 0.6126 - accuracy: 0.6447 - val_loss: 0.6569 - val_accuracy: 0.6000\n",
      "Epoch 112/700\n",
      "1/1 [==============================] - 0s 201ms/step - loss: 0.6115 - accuracy: 0.6447 - val_loss: 0.6568 - val_accuracy: 0.6000\n",
      "Epoch 113/700\n",
      "1/1 [==============================] - 1s 605ms/step - loss: 0.6116 - accuracy: 0.6447 - val_loss: 0.6565 - val_accuracy: 0.6000\n",
      "Epoch 114/700\n",
      "1/1 [==============================] - 0s 457ms/step - loss: 0.6109 - accuracy: 0.6447 - val_loss: 0.6563 - val_accuracy: 0.6000\n"
     ]
    }
   ],
   "source": [
    "history = model.fit(x=trnx, y=trny, validation_data = (valx, valy), batch_size = batch_size, epochs = training_epochs,callbacks=[early_stopping, TensorB])"
   ]
  },
  {
   "cell_type": "code",
   "execution_count": 17,
   "metadata": {},
   "outputs": [
    {
     "data": {
      "image/png": "[encoded data removed]",
      "text/plain": [
       "<Figure size 432x288 with 1 Axes>"
      ]
     },
     "metadata": {
      "needs_background": "light"
     },
     "output_type": "display_data"
    },
    {
     "data": {
      "image/png": "[encoded data removed]",
      "text/plain": [
       "<Figure size 432x288 with 1 Axes>"
      ]
     },
     "metadata": {
      "needs_background": "light"
     },
     "output_type": "display_data"
    },
    {
     "name": "stdout",
     "output_type": "stream",
     "text": [
      "0.6000000238418579\n",
      "0.6000000238418579\n"
     ]
    }
   ],
   "source": [
    "# summerize history for accuracy\n",
    "plt.plot(history.history['accuracy'])\n",
    "plt.plot(history.history['val_accuracy'])\n",
    "plt.title('model accuracy')\n",
    "plt.ylabel('accuracy')\n",
    "plt.xlabel('epoch')\n",
    "plt.legend(['train', 'test'], loc='upper left')\n",
    "plt.show()\n",
    "\n",
    "# summerize history for loss\n",
    "plt.plot(history.history['loss'])\n",
    "plt.plot(history.history['val_loss'])\n",
    "plt.title('model loss')\n",
    "plt.ylabel('loss')\n",
    "plt.xlabel('epoch')\n",
    "plt.legend(['train', 'test'], loc='upper left')\n",
    "plt.show()\n",
    "\n",
    "# test data 마지막 정확도\n",
    "print(history.history['val_accuracy'][-1])\n",
    "# test data 가장 높은 정확도\n",
    "print(np.max(history.history['val_accuracy']))"
   ]
  },
  {
   "cell_type": "code",
   "execution_count": 18,
   "metadata": {},
   "outputs": [
    {
     "name": "stdout",
     "output_type": "stream",
     "text": [
      "실제 : 0, 예측 : 0 -  13\n",
      "실제 : 1, 예측 : 0 -  11\n",
      "실제 : 1, 예측 : 1 -  0\n",
      "실제 : 0, 예측 : 1 -  0\n",
      "총 개수 :  24\n",
      "accuracy :  0.5416666666666666\n"
     ]
    }
   ],
   "source": [
    "#sigmoid\n",
    "y_pred = model.predict(tstx, batch_size=batch_size)\n",
    "a = 0\n",
    "b = 0\n",
    "c = 0\n",
    "d = 0\n",
    "for i in range(len(y_pred)) :\n",
    "    if y_pred[i] < 0.5 : # event03 발생 X 추측\n",
    "        if tsty[i] == 0 :\n",
    "            a = a + 1\n",
    "        else :\n",
    "            b=b + 1\n",
    "    else : # event03 발생 O 추측\n",
    "        if tsty[i] == 1 : \n",
    "            c=c + 1\n",
    "        else :\n",
    "            d= d+ 1\n",
    "print(\"실제 : 0, 예측 : 0 - \", a)\n",
    "print(\"실제 : 1, 예측 : 0 - \", b)\n",
    "print(\"실제 : 1, 예측 : 1 - \", c)\n",
    "print(\"실제 : 0, 예측 : 1 - \", d)\n",
    "print(\"총 개수 : \", len(y_pred))\n",
    "print(\"accuracy : \", (a+c)/(len(y_pred)))\n",
    "\n",
    "#categorical\n",
    "# a = 0\n",
    "# b = 0\n",
    "# c = 0\n",
    "# d = 0\n",
    "# for i in range(len(y_pred[:,0])) :\n",
    "#     if y_pred[i,0] > y_pred[i,1] : # event03 발생 X\n",
    "#         if tsty[i,1] == 0 :\n",
    "#             a = a + 1\n",
    "#         else :\n",
    "#             b = b + 1\n",
    "#     else :\n",
    "#         if tsty[i,1] == 1 : # event03 발생 \n",
    "#             c = c + 1\n",
    "#         else :\n",
    "#             d = d+ 1\n",
    "# print(\"실제 : 0, 예측 : 0 -> \", a)\n",
    "# print(\"실제 : 1, 예측 : 0 -> \", b)\n",
    "# print(\"실제 : 1, 예측 : 1 -> \", c)\n",
    "# print(\"실제 : 0, 예측 : 1 -> \", d)\n",
    "# print(\"전체데이터 개수 : \", len(y_pred[:,0]))"
   ]
  }
 ],
 "metadata": {
  "kernelspec": {
   "display_name": "Python 3 (ipykernel)",
   "language": "python",
   "name": "python3"
  },
  "language_info": {
   "codemirror_mode": {
    "name": "ipython",
    "version": 3
   },
   "file_extension": ".py",
   "mimetype": "text/x-python",
   "name": "python",
   "nbconvert_exporter": "python",
   "pygments_lexer": "ipython3",
   "version": "3.8.5"
  },
  "toc": {
   "base_numbering": 1,
   "nav_menu": {},
   "number_sections": true,
   "sideBar": true,
   "skip_h1_title": false,
   "title_cell": "Table of Contents",
   "title_sidebar": "Contents",
   "toc_cell": false,
   "toc_position": {},
   "toc_section_display": true,
   "toc_window_display": false
  }
 },
 "nbformat": 4,
 "nbformat_minor": 4
}
